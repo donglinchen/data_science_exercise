{
 "cells": [
  {
   "cell_type": "markdown",
   "metadata": {},
   "source": [
    "numpy basic vector opration, + , -, *, **\n",
    "\n",
    "numpy properties: dtype, ndim, shape; what happens when assign float to int?\n",
    "\n",
    "numpy methods: what is the difference between item() and [] methods?; arange(), reshape(), transpose()\n",
    "\n",
    "array slicing - begin:end:stride, use syntatic suger of dunder methods\n",
    "\n",
    "array slice is mutable\n",
    "\n",
    "numpy broadcasting\n",
    "\n",
    "computation across different dimensions\n",
    "\n",
    "matrix multiplication\n",
    "\n",
    "nearest neighbor search \n",
    "\n",
    "numpy indexing and conditional indexing"
   ]
  },
  {
   "cell_type": "code",
   "execution_count": 1,
   "metadata": {},
   "outputs": [
    {
     "name": "stdout",
     "output_type": "stream",
     "text": [
      "(5,) 1 int64\n"
     ]
    }
   ],
   "source": [
    "import numpy as np\n",
    "a = np.array([1,2,3,4,5])\n",
    "print(a.shape, a.ndim, a.dtype)"
   ]
  },
  {
   "cell_type": "markdown",
   "metadata": {},
   "source": [
    "### python list operation v.s. numpy array operation"
   ]
  },
  {
   "cell_type": "code",
   "execution_count": 2,
   "metadata": {},
   "outputs": [
    {
     "name": "stdout",
     "output_type": "stream",
     "text": [
      "regular python list operation:\n",
      "[1, 2, 3, 1, 2, 3]\n",
      "[1, 2, 3, 4, 5, 6]\n",
      "numpy vector operation:\n",
      "[2 4 6]\n",
      "[5 7 9]\n",
      "[ 4 10 18]\n"
     ]
    }
   ],
   "source": [
    "a, b = [1,2,3], [4,5,6]\n",
    "print('regular python list operation:')\n",
    "print(a * 2)\n",
    "print(a + b)\n",
    "c, d = np.array([1,2,3]), np.array([4,5,6])\n",
    "print('numpy vector operation:')\n",
    "print(c * 2)\n",
    "print(c + d)\n",
    "print(c * d)"
   ]
  },
  {
   "cell_type": "markdown",
   "metadata": {},
   "source": [
    "### array broadcasting"
   ]
  },
  {
   "cell_type": "code",
   "execution_count": 3,
   "metadata": {},
   "outputs": [
    {
     "name": "stdout",
     "output_type": "stream",
     "text": [
      "a = [[0 1 2 3 4]]\n",
      "(1, 5)\n",
      "b is:\n",
      " [[0]\n",
      " [1]\n",
      " [2]\n",
      " [3]\n",
      " [4]]\n",
      "(5, 1)\n"
     ]
    },
    {
     "data": {
      "text/plain": [
       "array([[0, 1, 2, 3, 4],\n",
       "       [1, 2, 3, 4, 5],\n",
       "       [2, 3, 4, 5, 6],\n",
       "       [3, 4, 5, 6, 7],\n",
       "       [4, 5, 6, 7, 8]])"
      ]
     },
     "execution_count": 3,
     "metadata": {},
     "output_type": "execute_result"
    }
   ],
   "source": [
    "a = np.arange(5).reshape(1,-1)\n",
    "print('a =', a)\n",
    "print(a.shape)\n",
    "b =  np.arange(5).reshape(5,-1)\n",
    "print('b is:\\n', b)\n",
    "print(b.shape)\n",
    "a + b"
   ]
  },
  {
   "cell_type": "markdown",
   "metadata": {},
   "source": [
    "### numpy array slicing"
   ]
  },
  {
   "cell_type": "code",
   "execution_count": 4,
   "metadata": {},
   "outputs": [
    {
     "data": {
      "text/plain": [
       "array([[ 0,  1,  2,  3,  4],\n",
       "       [ 5,  6,  7,  8,  9],\n",
       "       [10, 11, 12, 13, 14],\n",
       "       [15, 16, 17, 18, 19]])"
      ]
     },
     "execution_count": 4,
     "metadata": {},
     "output_type": "execute_result"
    }
   ],
   "source": [
    "a = np.arange(20).reshape(4, -1)\n",
    "a"
   ]
  },
  {
   "cell_type": "code",
   "execution_count": 5,
   "metadata": {},
   "outputs": [
    {
     "name": "stdout",
     "output_type": "stream",
     "text": [
      "get the 3rd row:\n",
      "[5 6 7 8 9]\n",
      "\n",
      "get [[13,14],[18,19]] from a:\n",
      "[[13 14]\n",
      " [18 19]]\n",
      "\n",
      "another way to get [[13,14],[18,19]] from a:\n",
      "[[13 14]\n",
      " [18 19]]\n",
      "\n",
      "get [5,7,9]:\n",
      "[5 7 9]\n"
     ]
    }
   ],
   "source": [
    "print(\"get the 3rd row:\")\n",
    "print(a[-3, :])\n",
    "print(\"\\nget [[13,14],[18,19]] from a:\")\n",
    "print(a[2:, 3:])\n",
    "print(\"\\nanother way to get [[13,14],[18,19]] from a:\")\n",
    "print(a[-2:, -2:])\n",
    "print(\"\\nget [5,7,9]:\")\n",
    "print(a[1, ::2])"
   ]
  },
  {
   "cell_type": "markdown",
   "metadata": {},
   "source": [
    "### slice is a view into the original object, it is mutable!!"
   ]
  },
  {
   "cell_type": "code",
   "execution_count": 6,
   "metadata": {},
   "outputs": [
    {
     "name": "stdout",
     "output_type": "stream",
     "text": [
      "[0 1 2 3 4 5]\n",
      "[-1  1  2  3  4  5]\n"
     ]
    }
   ],
   "source": [
    "a = np.arange(6)\n",
    "print(a)\n",
    "b = a[:3]\n",
    "b[0] = -1\n",
    "print(a)"
   ]
  },
  {
   "cell_type": "markdown",
   "metadata": {},
   "source": [
    "### To keep the original array element unchanged, make a copy of it before update the new array!"
   ]
  },
  {
   "cell_type": "code",
   "execution_count": 7,
   "metadata": {},
   "outputs": [
    {
     "name": "stdout",
     "output_type": "stream",
     "text": [
      "[0 1 2 3 4 5]\n",
      "[0 1 2 3 4 5]\n"
     ]
    }
   ],
   "source": [
    "a = np.arange(6)\n",
    "print(a)\n",
    "b = a[:3].copy()\n",
    "b[0] = -1\n",
    "print(a)"
   ]
  },
  {
   "cell_type": "markdown",
   "metadata": {},
   "source": [
    "### computation across different dimentions:\n",
    "\n",
    "Suppose we have 4 students taking 3 courses and below shows the grade for each course, students, and semester\n",
    "\n",
    "dimensions: (semester, student, course)\n",
    "```\n",
    "semester1 = [\n",
    "    [3,4,4],\n",
    "    [2,3,3],\n",
    "    [2,2,3],\n",
    "    [1,2,3]\n",
    "]\n",
    "semester2 = [\n",
    "    [3,3,4],\n",
    "    [3,3,4],\n",
    "    [3,3,3],\n",
    "    [2,3,3]\n",
    "]\n",
    "```\n",
    "calculate average student grade: \n",
    "- total average across all students and course and semester\n",
    "- group by student and course\n",
    "- group by course\n",
    "- group by student\n",
    "- group by student and semester\n",
    "- group by semester\n",
    "- group by course and semester\n",
    "\n",
    "data.mean(axis=?)"
   ]
  },
  {
   "cell_type": "code",
   "execution_count": 8,
   "metadata": {},
   "outputs": [
    {
     "name": "stdout",
     "output_type": "stream",
     "text": [
      "(2, 4, 3)\n"
     ]
    },
    {
     "data": {
      "text/plain": [
       "array([[[3, 4, 4],\n",
       "        [2, 3, 3],\n",
       "        [2, 2, 3],\n",
       "        [1, 2, 3]],\n",
       "\n",
       "       [[3, 3, 4],\n",
       "        [3, 3, 4],\n",
       "        [3, 3, 3],\n",
       "        [2, 3, 3]]])"
      ]
     },
     "execution_count": 8,
     "metadata": {},
     "output_type": "execute_result"
    }
   ],
   "source": [
    "semester1 = np.array([\n",
    "    [3,4,4],\n",
    "    [2,3,3],\n",
    "    [2,2,3],\n",
    "    [1,2,3]\n",
    "])\n",
    "semester2 = np.array([\n",
    "    [3,3,4],\n",
    "    [3,3,4],\n",
    "    [3,3,3],\n",
    "    [2,3,3]\n",
    "])\n",
    "all = np.array([semester1, semester2])\n",
    "print(all.shape)\n",
    "all"
   ]
  },
  {
   "cell_type": "code",
   "execution_count": 9,
   "metadata": {},
   "outputs": [
    {
     "name": "stdout",
     "output_type": "stream",
     "text": [
      "total average across all students, courses and semesters:\n",
      "2.875\n",
      "\n",
      "group by student and course\n",
      "[[3.  3.5 4. ]\n",
      " [2.5 3.  3.5]\n",
      " [2.5 2.5 3. ]\n",
      " [1.5 2.5 3. ]]\n",
      "\n",
      "group by course\n",
      "[2.375 2.875 3.375]\n",
      "\n",
      "group by student\n",
      "[3.5        3.         2.66666667 2.33333333]\n",
      "\n",
      "group by student and semester\n",
      "[[3.66666667 2.66666667 2.33333333 2.        ]\n",
      " [3.33333333 3.33333333 3.         2.66666667]]\n",
      "\n",
      "group by semester\n",
      "[2.66666667 3.08333333]\n",
      "\n",
      "group by course and semester\n",
      "[[2.   2.75 3.25]\n",
      " [2.75 3.   3.5 ]]\n"
     ]
    }
   ],
   "source": [
    "print('total average across all students, courses and semesters:')\n",
    "print(all.mean())\n",
    "print('\\ngroup by student and course')\n",
    "print(all.mean(axis=(0)))\n",
    "print('\\ngroup by course')\n",
    "print(all.mean(axis=(0,1)))\n",
    "print('\\ngroup by student')\n",
    "print(all.mean(axis=(0,2)))\n",
    "print('\\ngroup by student and semester')\n",
    "print(all.mean(axis=(2)))\n",
    "print('\\ngroup by semester')\n",
    "print(all.mean(axis=(1,2)))\n",
    "print('\\ngroup by course and semester')\n",
    "print(all.mean(axis=(1)))"
   ]
  },
  {
   "cell_type": "markdown",
   "metadata": {},
   "source": [
    "### matrix multiplication"
   ]
  },
  {
   "cell_type": "code",
   "execution_count": 10,
   "metadata": {},
   "outputs": [
    {
     "name": "stdout",
     "output_type": "stream",
     "text": [
      "[0 1 2]\n",
      "[3 4 5]\n"
     ]
    },
    {
     "data": {
      "text/plain": [
       "14"
      ]
     },
     "execution_count": 10,
     "metadata": {},
     "output_type": "execute_result"
    }
   ],
   "source": [
    "a = np.arange(3)\n",
    "print(a)\n",
    "b = np.arange(3,6)\n",
    "print(b)\n",
    "a @ b\n",
    "# 0 * 3 + 1 * 4 + 2 * 5"
   ]
  },
  {
   "cell_type": "markdown",
   "metadata": {},
   "source": [
    "### dot product of two arrays"
   ]
  },
  {
   "cell_type": "code",
   "execution_count": 11,
   "metadata": {},
   "outputs": [
    {
     "data": {
      "text/plain": [
       "14"
      ]
     },
     "execution_count": 11,
     "metadata": {},
     "output_type": "execute_result"
    }
   ],
   "source": [
    "np.dot(a, b)"
   ]
  },
  {
   "cell_type": "markdown",
   "metadata": {},
   "source": [
    "### cross product of a and b in is a vector perpendicular to both a and b"
   ]
  },
  {
   "cell_type": "code",
   "execution_count": 12,
   "metadata": {},
   "outputs": [
    {
     "data": {
      "text/plain": [
       "array([-3,  6, -3])"
      ]
     },
     "execution_count": 12,
     "metadata": {},
     "output_type": "execute_result"
    }
   ],
   "source": [
    "np.cross(a, b)"
   ]
  },
  {
   "cell_type": "markdown",
   "metadata": {},
   "source": [
    "###  nearest neighbor search \n",
    "\n",
    "find the closest point from:\n",
    "```\n",
    "[[ 0,  1,  2],\n",
    "[ 3,  4,  5],\n",
    "[ 6,  7,  8],\n",
    "[ 9, 10, 11],\n",
    "[12, 13, 14],\n",
    "[15, 16, 17],\n",
    "[18, 19, 20],\n",
    "[21, 22, 23],\n",
    "[24, 25, 26],\n",
    "[27, 28, 29]]\n",
    "```\n",
    "that is closest to `[9,9,9]`\n"
   ]
  },
  {
   "cell_type": "code",
   "execution_count": 13,
   "metadata": {},
   "outputs": [
    {
     "name": "stdout",
     "output_type": "stream",
     "text": [
      "a is:\n",
      " [[ 0  1  2]\n",
      " [ 3  4  5]\n",
      " [ 6  7  8]\n",
      " [ 9 10 11]\n",
      " [12 13 14]\n",
      " [15 16 17]\n",
      " [18 19 20]\n",
      " [21 22 23]\n",
      " [24 25 26]\n",
      " [27 28 29]]\n",
      "Nearest point to b is [ 9 10 11]\n"
     ]
    }
   ],
   "source": [
    "a = np.arange(30).reshape((10, 3))\n",
    "print('a is:\\n', a)\n",
    "b = np.array([9,9,9])\n",
    "minIdx = np.argmin(np.linalg.norm(a-b,axis=1))  # compute all euclidean distances at once and return the index of the smallest one\n",
    "print(f\"Nearest point to b is {a[minIdx]}\")"
   ]
  },
  {
   "cell_type": "code",
   "execution_count": 14,
   "metadata": {},
   "outputs": [
    {
     "data": {
      "text/plain": [
       "array([13.92838828,  8.77496439,  3.74165739,  2.23606798,  7.07106781,\n",
       "       12.20655562, 17.3781472 , 22.56102835, 27.74887385, 32.93933818])"
      ]
     },
     "execution_count": 14,
     "metadata": {},
     "output_type": "execute_result"
    }
   ],
   "source": [
    "np.linalg.norm(a-b,axis=1)"
   ]
  },
  {
   "cell_type": "code",
   "execution_count": 15,
   "metadata": {},
   "outputs": [
    {
     "data": {
      "text/plain": [
       "3"
      ]
     },
     "execution_count": 15,
     "metadata": {},
     "output_type": "execute_result"
    }
   ],
   "source": [
    "minIdx"
   ]
  },
  {
   "cell_type": "markdown",
   "metadata": {},
   "source": [
    "###  numpy indexing and conditional indexing"
   ]
  },
  {
   "cell_type": "code",
   "execution_count": 16,
   "metadata": {},
   "outputs": [
    {
     "name": "stdout",
     "output_type": "stream",
     "text": [
      "[0 1 2 3 4 5 6 7 8 9]\n",
      "[False False False False False False  True  True  True  True]\n"
     ]
    },
    {
     "data": {
      "text/plain": [
       "array([6, 7, 8, 9])"
      ]
     },
     "execution_count": 16,
     "metadata": {},
     "output_type": "execute_result"
    }
   ],
   "source": [
    "a = np.arange(10)\n",
    "print(a)\n",
    "condition = a > 5\n",
    "print(condition)\n",
    "# only select the element that is greater than 5\n",
    "a[condition]"
   ]
  },
  {
   "cell_type": "code",
   "execution_count": null,
   "metadata": {},
   "outputs": [],
   "source": []
  }
 ],
 "metadata": {
  "kernelspec": {
   "display_name": "Python 3 (ipykernel)",
   "language": "python",
   "name": "python3"
  },
  "language_info": {
   "codemirror_mode": {
    "name": "ipython",
    "version": 3
   },
   "file_extension": ".py",
   "mimetype": "text/x-python",
   "name": "python",
   "nbconvert_exporter": "python",
   "pygments_lexer": "ipython3",
   "version": "3.9.4"
  }
 },
 "nbformat": 4,
 "nbformat_minor": 2
}
