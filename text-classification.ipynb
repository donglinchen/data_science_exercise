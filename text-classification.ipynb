{
 "metadata": {
  "language_info": {
   "codemirror_mode": {
    "name": "ipython",
    "version": 3
   },
   "file_extension": ".py",
   "mimetype": "text/x-python",
   "name": "python",
   "nbconvert_exporter": "python",
   "pygments_lexer": "ipython3",
   "version": "3.9.4"
  },
  "orig_nbformat": 2,
  "kernelspec": {
   "name": "python394jvsc74a57bd020a85fe09acdaba6b71d03f72f9bc0d14d3f4a3b1e07c31a1c0e4d90c2c59b60",
   "display_name": "Python 3.9.4 64-bit ('sk024': conda)"
  }
 },
 "nbformat": 4,
 "nbformat_minor": 2,
 "cells": [
  {
   "source": [
    "\n",
    "## Build text classification models using scikit-learn\n",
    "- Use TfidfVectorizer to transform input texts into tfidf encoded float point matrix\n",
    "- Build a pipeline that include both feature extraction, and classification model\n",
    "- Build and train models\n",
    "- Evaluate model performace\n"
   ],
   "cell_type": "markdown",
   "metadata": {}
  },
  {
   "cell_type": "code",
   "execution_count": 51,
   "metadata": {},
   "outputs": [],
   "source": [
    "import pandas as pd\n",
    "import numpy as np\n",
    "from sklearn.model_selection import train_test_split\n",
    "from sklearn.pipeline import Pipeline\n",
    "from sklearn.feature_extraction.text import TfidfVectorizer\n",
    "from sklearn.linear_model import SGDClassifier\n",
    "from sklearn.svm import SVC\n",
    "from sklearn import metrics"
   ]
  },
  {
   "cell_type": "code",
   "execution_count": 52,
   "metadata": {},
   "outputs": [
    {
     "output_type": "stream",
     "name": "stdout",
     "text": [
      "(2225, 2) 5\n"
     ]
    },
    {
     "output_type": "execute_result",
     "data": {
      "text/plain": [
       "   category                                               text\n",
       "0      tech  tv future in the hands of viewers with home th...\n",
       "1  business  worldcom boss  left books alone  former worldc..."
      ],
      "text/html": "<div>\n<style scoped>\n    .dataframe tbody tr th:only-of-type {\n        vertical-align: middle;\n    }\n\n    .dataframe tbody tr th {\n        vertical-align: top;\n    }\n\n    .dataframe thead th {\n        text-align: right;\n    }\n</style>\n<table border=\"1\" class=\"dataframe\">\n  <thead>\n    <tr style=\"text-align: right;\">\n      <th></th>\n      <th>category</th>\n      <th>text</th>\n    </tr>\n  </thead>\n  <tbody>\n    <tr>\n      <th>0</th>\n      <td>tech</td>\n      <td>tv future in the hands of viewers with home th...</td>\n    </tr>\n    <tr>\n      <th>1</th>\n      <td>business</td>\n      <td>worldcom boss  left books alone  former worldc...</td>\n    </tr>\n  </tbody>\n</table>\n</div>"
     },
     "metadata": {},
     "execution_count": 52
    }
   ],
   "source": [
    "df = pd.read_csv('kaggle_data/bbc-text.csv')\n",
    "print(df.shape, df['category'].nunique())\n",
    "df.head(2)"
   ]
  },
  {
   "cell_type": "code",
   "execution_count": 54,
   "metadata": {},
   "outputs": [
    {
     "output_type": "execute_result",
     "data": {
      "text/plain": [
       "sport            511\n",
       "business         510\n",
       "politics         417\n",
       "tech             401\n",
       "entertainment    386\n",
       "Name: category, dtype: int64"
      ]
     },
     "metadata": {},
     "execution_count": 54
    }
   ],
   "source": [
    "df['category'].value_counts()"
   ]
  },
  {
   "cell_type": "code",
   "execution_count": 55,
   "metadata": {},
   "outputs": [
    {
     "output_type": "stream",
     "name": "stdout",
     "text": [
      "(1780,) (445,) (1780,) (445,)\n"
     ]
    }
   ],
   "source": [
    "X_train, X_test, y_train, y_test = train_test_split(\n",
    "    df['text'], df['category'], test_size=.2, stratify=df['category'], random_state=42)\n",
    "\n",
    "print(X_train.shape, X_test.shape, y_train.shape, y_test.shape)"
   ]
  },
  {
   "cell_type": "code",
   "execution_count": 56,
   "metadata": {},
   "outputs": [],
   "source": [
    "sgd = Pipeline(\n",
    "        [\n",
    "            (\n",
    "                \"tfidf_vector_com\",\n",
    "                TfidfVectorizer(),\n",
    "            ),\n",
    "            (\n",
    "                \"clf\",\n",
    "                SGDClassifier(),\n",
    "            ),\n",
    "        ]\n",
    "    )"
   ]
  },
  {
   "cell_type": "code",
   "execution_count": 57,
   "metadata": {},
   "outputs": [],
   "source": [
    "def print_metrics(pred_test, y_test, pred_train, y_train):\n",
    "    print(\"test accuracy\", str(np.mean(pred_test == y_test)))\n",
    "    print(\"train accuracy\", str(np.mean(pred_train == y_train)))\n",
    "    print(\"\\n Metrics and Confusion for SVM \\n\")\n",
    "    print(metrics.confusion_matrix(y_test, pred_test))\n",
    "    print(metrics.classification_report(y_test, pred_test))"
   ]
  },
  {
   "cell_type": "code",
   "execution_count": 59,
   "metadata": {},
   "outputs": [
    {
     "output_type": "stream",
     "name": "stdout",
     "text": [
      "test accuracy 0.9820224719101124\ntrain accuracy 1.0\n\n Metrics and Confusion for SVM \n\n[[100   1   1   0   0]\n [  0  76   0   0   1]\n [  1   1  81   0   1]\n [  0   0   0 102   0]\n [  1   1   0   0  78]]\n               precision    recall  f1-score   support\n\n     business       0.98      0.98      0.98       102\nentertainment       0.96      0.99      0.97        77\n     politics       0.99      0.96      0.98        84\n        sport       1.00      1.00      1.00       102\n         tech       0.97      0.97      0.97        80\n\n     accuracy                           0.98       445\n    macro avg       0.98      0.98      0.98       445\n weighted avg       0.98      0.98      0.98       445\n\nCPU times: user 2.65 s, sys: 46.1 ms, total: 2.69 s\nWall time: 1.07 s\n"
     ]
    }
   ],
   "source": [
    "%%time\n",
    "sgd.fit(X_train, y_train)\n",
    "pred_test = sgd.predict(X_test)\n",
    "pred_train = sgd.predict(X_train)\n",
    "print_metrics(pred_test, y_test, pred_train, y_train)"
   ]
  },
  {
   "source": [
    "# Understand model coefficient. What are the the most import features/words for classficiation"
   ],
   "cell_type": "markdown",
   "metadata": {}
  },
  {
   "cell_type": "code",
   "execution_count": 106,
   "metadata": {},
   "outputs": [
    {
     "output_type": "execute_result",
     "data": {
      "text/plain": [
       "Pipeline(steps=[('tfidf_vector_com', TfidfVectorizer()),\n",
       "                ('clf', SGDClassifier())])"
      ]
     },
     "metadata": {},
     "execution_count": 106
    }
   ],
   "source": [
    "# the model pipeline\n",
    "sgd"
   ]
  },
  {
   "cell_type": "code",
   "execution_count": 107,
   "metadata": {},
   "outputs": [
    {
     "output_type": "execute_result",
     "data": {
      "text/plain": [
       "array(['business', 'entertainment', 'politics', 'sport', 'tech'],\n",
       "      dtype='<U13')"
      ]
     },
     "metadata": {},
     "execution_count": 107
    }
   ],
   "source": [
    "# model classes\n",
    "sgd.classes_"
   ]
  },
  {
   "cell_type": "code",
   "execution_count": 108,
   "metadata": {},
   "outputs": [
    {
     "output_type": "execute_result",
     "data": {
      "text/plain": [
       "array([-0.04044558,  0.37417501,  0.        , ...,  0.        ,\n",
       "        0.        ,  0.        ])"
      ]
     },
     "metadata": {},
     "execution_count": 108
    }
   ],
   "source": [
    "# the feature coefficients for business class\n",
    "sgd['clf'].coef_[0]"
   ]
  },
  {
   "cell_type": "code",
   "execution_count": 110,
   "metadata": {},
   "outputs": [
    {
     "output_type": "execute_result",
     "data": {
      "text/plain": [
       "[(2.482477596699568, 8434),\n",
       " (2.3783413285203436, 13260),\n",
       " (2.338598659020302, 3128),\n",
       " (2.0065195482212057, 21702),\n",
       " (1.8021871092631958, 9882),\n",
       " (1.733046180786052, 5806),\n",
       " (1.62326722059601, 4489),\n",
       " (1.4838528375223712, 24535),\n",
       " (1.4690300566766994, 13107),\n",
       " (1.415096153103106, 20986)]"
      ]
     },
     "metadata": {},
     "execution_count": 110
    }
   ],
   "source": [
    "# top 10 positive feature coefficients for business class\n",
    "top_coef_idx = sorted([(v,i) for (i, v) in enumerate(sgd['clf'].coef_[0])], reverse=True)[:10]\n",
    "top_coef_idx"
   ]
  },
  {
   "cell_type": "code",
   "execution_count": 111,
   "metadata": {},
   "outputs": [
    {
     "output_type": "execute_result",
     "data": {
      "text/plain": [
       "[8434, 13260, 3128, 21702, 9882, 5806, 4489, 24535, 13107, 20986]"
      ]
     },
     "metadata": {},
     "execution_count": 111
    }
   ],
   "source": [
    "# the top indices \n",
    "top_idx = [e[1] for e in top_coef_idx]\n",
    "top_idx"
   ]
  },
  {
   "cell_type": "code",
   "execution_count": 112,
   "metadata": {},
   "outputs": [
    {
     "output_type": "execute_result",
     "data": {
      "text/plain": [
       "['business',\n",
       " 'its',\n",
       " 'economic',\n",
       " 'bank',\n",
       " 'trade',\n",
       " 'firm',\n",
       " 'sales',\n",
       " 'company',\n",
       " 'investment',\n",
       " 'shares']"
      ]
     },
     "metadata": {},
     "execution_count": 112
    }
   ],
   "source": [
    "# the top word related to the business class\n",
    "[ word for (word,seq) in sgd['tfidf_vector_com'].vocabulary_.items() if seq in top_idx]"
   ]
  },
  {
   "source": [
    "## Exercise:\n",
    "The above 10 most import words are not ordered by its importance/coefficient, I leave it as an exercise for you to complete:\n",
    "- Get the top N words ordered by coefficent for a given class\n",
    "- report all top words for all class categories\n",
    "- Aso report top N negative coeeficients for the class, the top N negative coeeficients in the class are most likely to be top words in other class categories\n",
    "- format the report nicely "
   ],
   "cell_type": "markdown",
   "metadata": {}
  }
 ]
}