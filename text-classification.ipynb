{
 "metadata": {
  "language_info": {
   "codemirror_mode": {
    "name": "ipython",
    "version": 3
   },
   "file_extension": ".py",
   "mimetype": "text/x-python",
   "name": "python",
   "nbconvert_exporter": "python",
   "pygments_lexer": "ipython3",
   "version": "3.9.4"
  },
  "orig_nbformat": 2,
  "kernelspec": {
   "name": "python394jvsc74a57bd020a85fe09acdaba6b71d03f72f9bc0d14d3f4a3b1e07c31a1c0e4d90c2c59b60",
   "display_name": "Python 3.9.4 64-bit ('sk024': conda)"
  }
 },
 "nbformat": 4,
 "nbformat_minor": 2,
 "cells": [
  {
   "source": [
    "\n",
    "## Build text classification models using scikit-learn\n",
    "- Use TfidfVectorizer to transform input texts into tfidf encoded float point matrix\n",
    "- Build a pipeline that include both feature extraction, and classification model\n",
    "- Build and train models\n",
    "- Evaluate model performace\n"
   ],
   "cell_type": "markdown",
   "metadata": {}
  },
  {
   "cell_type": "code",
   "execution_count": 2,
   "metadata": {},
   "outputs": [],
   "source": [
    "import pandas as pd\n",
    "import numpy as np\n",
    "from sklearn.model_selection import train_test_split\n",
    "from sklearn.pipeline import Pipeline\n",
    "from sklearn.feature_extraction.text import TfidfVectorizer\n",
    "from sklearn.linear_model import SGDClassifier\n",
    "from sklearn.svm import SVC\n",
    "from sklearn import metrics"
   ]
  },
  {
   "cell_type": "code",
   "execution_count": 3,
   "metadata": {},
   "outputs": [
    {
     "output_type": "stream",
     "name": "stdout",
     "text": [
      "(2225, 2) 5\n"
     ]
    },
    {
     "output_type": "execute_result",
     "data": {
      "text/plain": [
       "   category                                               text\n",
       "0      tech  tv future in the hands of viewers with home th...\n",
       "1  business  worldcom boss  left books alone  former worldc..."
      ],
      "text/html": "<div>\n<style scoped>\n    .dataframe tbody tr th:only-of-type {\n        vertical-align: middle;\n    }\n\n    .dataframe tbody tr th {\n        vertical-align: top;\n    }\n\n    .dataframe thead th {\n        text-align: right;\n    }\n</style>\n<table border=\"1\" class=\"dataframe\">\n  <thead>\n    <tr style=\"text-align: right;\">\n      <th></th>\n      <th>category</th>\n      <th>text</th>\n    </tr>\n  </thead>\n  <tbody>\n    <tr>\n      <th>0</th>\n      <td>tech</td>\n      <td>tv future in the hands of viewers with home th...</td>\n    </tr>\n    <tr>\n      <th>1</th>\n      <td>business</td>\n      <td>worldcom boss  left books alone  former worldc...</td>\n    </tr>\n  </tbody>\n</table>\n</div>"
     },
     "metadata": {},
     "execution_count": 3
    }
   ],
   "source": [
    "df = pd.read_csv('kaggle_data/bbc-text.csv')\n",
    "print(df.shape, df['category'].nunique())\n",
    "df.head(2)"
   ]
  },
  {
   "cell_type": "code",
   "execution_count": 4,
   "metadata": {},
   "outputs": [
    {
     "output_type": "execute_result",
     "data": {
      "text/plain": [
       "sport            511\n",
       "business         510\n",
       "politics         417\n",
       "tech             401\n",
       "entertainment    386\n",
       "Name: category, dtype: int64"
      ]
     },
     "metadata": {},
     "execution_count": 4
    }
   ],
   "source": [
    "df['category'].value_counts()"
   ]
  },
  {
   "cell_type": "code",
   "execution_count": 5,
   "metadata": {},
   "outputs": [
    {
     "output_type": "stream",
     "name": "stdout",
     "text": [
      "(1780,) (445,) (1780,) (445,)\n"
     ]
    }
   ],
   "source": [
    "X_train, X_test, y_train, y_test = train_test_split(\n",
    "    df['text'], df['category'], test_size=.2, stratify=df['category'], random_state=42)\n",
    "\n",
    "print(X_train.shape, X_test.shape, y_train.shape, y_test.shape)"
   ]
  },
  {
   "cell_type": "code",
   "execution_count": 6,
   "metadata": {},
   "outputs": [],
   "source": [
    "sgd = Pipeline(\n",
    "        [\n",
    "            (\n",
    "                \"tfidf_vector_com\",\n",
    "                TfidfVectorizer(),\n",
    "            ),\n",
    "            (\n",
    "                \"clf\",\n",
    "                SGDClassifier(),\n",
    "            ),\n",
    "        ]\n",
    "    )"
   ]
  },
  {
   "cell_type": "code",
   "execution_count": 7,
   "metadata": {},
   "outputs": [],
   "source": [
    "def print_metrics(pred_test, y_test, pred_train, y_train):\n",
    "    print(\"test accuracy\", str(np.mean(pred_test == y_test)))\n",
    "    print(\"train accuracy\", str(np.mean(pred_train == y_train)))\n",
    "    print(\"\\n Metrics and Confusion for SVM \\n\")\n",
    "    print(metrics.confusion_matrix(y_test, pred_test))\n",
    "    print(metrics.classification_report(y_test, pred_test))"
   ]
  },
  {
   "cell_type": "code",
   "execution_count": 8,
   "metadata": {},
   "outputs": [
    {
     "output_type": "stream",
     "name": "stdout",
     "text": [
      "test accuracy 0.9820224719101124\ntrain accuracy 1.0\n\n Metrics and Confusion for SVM \n\n[[100   0   2   0   0]\n [  0  76   0   0   1]\n [  1   1  81   0   1]\n [  0   0   0 102   0]\n [  1   1   0   0  78]]\n               precision    recall  f1-score   support\n\n     business       0.98      0.98      0.98       102\nentertainment       0.97      0.99      0.98        77\n     politics       0.98      0.96      0.97        84\n        sport       1.00      1.00      1.00       102\n         tech       0.97      0.97      0.97        80\n\n     accuracy                           0.98       445\n    macro avg       0.98      0.98      0.98       445\n weighted avg       0.98      0.98      0.98       445\n\nCPU times: user 2.45 s, sys: 28.7 ms, total: 2.47 s\nWall time: 915 ms\n"
     ]
    }
   ],
   "source": [
    "%%time\n",
    "sgd.fit(X_train, y_train)\n",
    "pred_test = sgd.predict(X_test)\n",
    "pred_train = sgd.predict(X_train)\n",
    "print_metrics(pred_test, y_test, pred_train, y_train)"
   ]
  },
  {
   "source": [
    "# Understand model coefficient. What are the the most import features/words for classficiation"
   ],
   "cell_type": "markdown",
   "metadata": {}
  },
  {
   "cell_type": "code",
   "execution_count": 9,
   "metadata": {},
   "outputs": [
    {
     "output_type": "execute_result",
     "data": {
      "text/plain": [
       "Pipeline(steps=[('tfidf_vector_com', TfidfVectorizer()),\n",
       "                ('clf', SGDClassifier())])"
      ]
     },
     "metadata": {},
     "execution_count": 9
    }
   ],
   "source": [
    "# the model pipeline\n",
    "sgd"
   ]
  },
  {
   "cell_type": "code",
   "execution_count": 10,
   "metadata": {},
   "outputs": [
    {
     "output_type": "execute_result",
     "data": {
      "text/plain": [
       "array(['business', 'entertainment', 'politics', 'sport', 'tech'],\n",
       "      dtype='<U13')"
      ]
     },
     "metadata": {},
     "execution_count": 10
    }
   ],
   "source": [
    "# model classes\n",
    "sgd.classes_"
   ]
  },
  {
   "cell_type": "code",
   "execution_count": 11,
   "metadata": {},
   "outputs": [
    {
     "output_type": "execute_result",
     "data": {
      "text/plain": [
       "array([-0.05925439,  0.25474777,  0.        , ...,  0.        ,\n",
       "        0.        ,  0.        ])"
      ]
     },
     "metadata": {},
     "execution_count": 11
    }
   ],
   "source": [
    "# the feature coefficients for business class\n",
    "sgd['clf'].coef_[0]"
   ]
  },
  {
   "cell_type": "code",
   "execution_count": 12,
   "metadata": {},
   "outputs": [
    {
     "output_type": "execute_result",
     "data": {
      "text/plain": [
       "[(2.4074082816652034, 3128),\n",
       " (2.329973528697794, 21702),\n",
       " (2.2649871765258487, 13260),\n",
       " (2.236753638759535, 8434),\n",
       " (1.8363101117575296, 5806),\n",
       " (1.830036678535737, 9882),\n",
       " (1.5941859779599135, 13107),\n",
       " (1.535328853990862, 4489),\n",
       " (1.5173086259584452, 15193),\n",
       " (1.5162727946923382, 20986)]"
      ]
     },
     "metadata": {},
     "execution_count": 12
    }
   ],
   "source": [
    "# top 10 positive feature coefficients for business class\n",
    "top_coef_idx = sorted([(v,i) for (i, v) in enumerate(sgd['clf'].coef_[0])], reverse=True)[:10]\n",
    "top_coef_idx"
   ]
  },
  {
   "cell_type": "code",
   "execution_count": 13,
   "metadata": {},
   "outputs": [
    {
     "output_type": "execute_result",
     "data": {
      "text/plain": [
       "[3128, 21702, 13260, 8434, 5806, 9882, 13107, 4489, 15193, 20986]"
      ]
     },
     "metadata": {},
     "execution_count": 13
    }
   ],
   "source": [
    "# the top indices \n",
    "top_idx = [e[1] for e in top_coef_idx]\n",
    "top_idx"
   ]
  },
  {
   "cell_type": "code",
   "execution_count": 14,
   "metadata": {},
   "outputs": [
    {
     "output_type": "execute_result",
     "data": {
      "text/plain": [
       "['business',\n",
       " 'its',\n",
       " 'economic',\n",
       " 'bank',\n",
       " 'firm',\n",
       " 'market',\n",
       " 'sales',\n",
       " 'company',\n",
       " 'investment',\n",
       " 'shares']"
      ]
     },
     "metadata": {},
     "execution_count": 14
    }
   ],
   "source": [
    "# the top word related to the business class\n",
    "[ word for (word,seq) in sgd['tfidf_vector_com'].vocabulary_.items() if seq in top_idx]"
   ]
  },
  {
   "source": [
    "## Exercise:\n",
    "The above 10 most import words are not ordered by its importance/coefficient, I leave it as an exercise for you to complete:\n",
    "- Get the top N words ordered by coefficent for a given class\n",
    "- report all top words for all class categories\n",
    "- Aso report top N negative coeeficients for the class, the top N negative coeeficients in the class are most likely to be top words in other class categories\n",
    "- format the report nicely "
   ],
   "cell_type": "markdown",
   "metadata": {}
  },
  {
   "cell_type": "code",
   "execution_count": 59,
   "metadata": {},
   "outputs": [],
   "source": [
    "# list(enumerate(sgd['clf'].coef_[0]))"
   ]
  },
  {
   "cell_type": "code",
   "execution_count": 53,
   "metadata": {},
   "outputs": [],
   "source": [
    "# Convert word to index sequence dictionary to index to word for easy lookup word by index\n",
    "idx_to_word = {idx:word for (word, idx) in sgd['tfidf_vector_com'].vocabulary_.items()}\n",
    "# idx_to_word"
   ]
  },
  {
   "cell_type": "code",
   "execution_count": 55,
   "metadata": {},
   "outputs": [
    {
     "output_type": "execute_result",
     "data": {
      "text/plain": [
       "(array([0]),)"
      ]
     },
     "metadata": {},
     "execution_count": 55
    }
   ],
   "source": [
    "np.where(sgd.classes_== 'business')"
   ]
  },
  {
   "cell_type": "code",
   "execution_count": 16,
   "metadata": {},
   "outputs": [],
   "source": [
    "def top_n_features_by_coef(n, classname):\n",
    "    \"\"\"\n",
    "        Args:\n",
    "            n: the top number of words by coefficient,\n",
    "            classname: the class label\n",
    "        Returns:\n",
    "            top or bottom n words with coefficients\n",
    "    \"\"\"\n",
    "    class_idx = np.where(sgd.classes_== classname)[0][0]\n",
    "    idx_coef = sorted(\n",
    "        [(i,v) for (i, v) in enumerate(sgd['clf'].coef_[class_idx])], key=lambda e: e[1],reverse=True)\n",
    "    top_n_idx_coef = idx_coef[:n]\n",
    "    bottom_n_idx_coef = idx_coef[-n:] # top negative N words, sort asscending\n",
    "    top_word_coef = list(map(lambda e: (idx_to_word[e[0]], round(e[1], 4)), top_n_idx_coef))\n",
    "    bottom_word_coef = list(map(lambda e: (idx_to_word[e[0]], round(e[1], 4)), bottom_n_idx_coef))\n",
    "    df = pd.DataFrame(top_word_coef, columns=[f\"{classname}_word\", 'coef'])\n",
    "    df_bottom = pd.DataFrame(bottom_word_coef, columns=[f\"{classname}_word\", 'coef'])\n",
    "    return pd.concat([df, df_bottom])"
   ]
  },
  {
   "cell_type": "code",
   "execution_count": 17,
   "metadata": {},
   "outputs": [
    {
     "output_type": "execute_result",
     "data": {
      "text/plain": [
       "  business_word    coef entertainment_word    coef politics_word    coef  \\\n",
       "0          bank  2.4074               film  3.5343         blair  2.4407   \n",
       "1        shares  2.3300               show  3.0107         party  2.2978   \n",
       "2           its  2.2650              music  2.5611          lord  2.0510   \n",
       "3      economic  2.2368             singer  2.4325     secretary  2.0133   \n",
       "4       company  1.8363              album  2.3064    government  2.0103   \n",
       "5          firm  1.8300               band  2.1063      minister  1.9874   \n",
       "6    investment  1.5942               star  1.9524        labour  1.9762   \n",
       "7      business  1.5353           festival  1.5706     committee  1.8323   \n",
       "8        market  1.5173                 tv  1.5275            mr  1.8213   \n",
       "9         sales  1.5163             ballet  1.5092         straw  1.8144   \n",
       "0           his -1.0725                emi -0.9488        online -1.1178   \n",
       "1       digital -1.1071           internet -0.9698           its -1.1346   \n",
       "2     committee -1.1851          gameboyzz -0.9812          club -1.1497   \n",
       "3         brown -1.2454             labour -0.9943     companies -1.1509   \n",
       "4         blair -1.2600                 to -1.0827         balls -1.1724   \n",
       "5         music -1.2601               firm -1.0973         rugby -1.2719   \n",
       "6          film -1.2662            players -1.2614          film -1.3266   \n",
       "7       britain -1.2879             online -1.3231            us -1.5169   \n",
       "8         straw -1.3454              games -1.3232         music -1.5278   \n",
       "9            he -1.5650               game -1.5355      economic -1.7747   \n",
       "\n",
       "  sport_word    coef    tech_word    coef  \n",
       "0      match  1.8460       online  2.4196  \n",
       "1        cup  1.7546     software  2.3592  \n",
       "2      rugby  1.6510   technology  2.3324  \n",
       "3  athletics  1.5769     computer  2.1125  \n",
       "4    players  1.5422        games  1.9707  \n",
       "5     season  1.5281      digital  1.9346  \n",
       "6        win  1.5194         game  1.7995  \n",
       "7  liverpool  1.4837          ink  1.7228  \n",
       "8       club  1.4555     internet  1.6473  \n",
       "9      coach  1.3881          net  1.5992  \n",
       "0      album -1.0831     business -0.8514  \n",
       "1      music -1.1076  nominations -0.8559  \n",
       "2       said -1.1461         corp -0.9485  \n",
       "3       show -1.1833           we -0.9826  \n",
       "4     singer -1.2765      chernin -0.9959  \n",
       "5         uk -1.2954   government -1.0298  \n",
       "6       film -1.3106       shares -1.0300  \n",
       "7        its -1.3744          ict -1.0351  \n",
       "8         of -1.6713        sales -1.0446  \n",
       "9         mr -2.8439        after -1.0493  "
      ],
      "text/html": "<div>\n<style scoped>\n    .dataframe tbody tr th:only-of-type {\n        vertical-align: middle;\n    }\n\n    .dataframe tbody tr th {\n        vertical-align: top;\n    }\n\n    .dataframe thead th {\n        text-align: right;\n    }\n</style>\n<table border=\"1\" class=\"dataframe\">\n  <thead>\n    <tr style=\"text-align: right;\">\n      <th></th>\n      <th>business_word</th>\n      <th>coef</th>\n      <th>entertainment_word</th>\n      <th>coef</th>\n      <th>politics_word</th>\n      <th>coef</th>\n      <th>sport_word</th>\n      <th>coef</th>\n      <th>tech_word</th>\n      <th>coef</th>\n    </tr>\n  </thead>\n  <tbody>\n    <tr>\n      <th>0</th>\n      <td>bank</td>\n      <td>2.4074</td>\n      <td>film</td>\n      <td>3.5343</td>\n      <td>blair</td>\n      <td>2.4407</td>\n      <td>match</td>\n      <td>1.8460</td>\n      <td>online</td>\n      <td>2.4196</td>\n    </tr>\n    <tr>\n      <th>1</th>\n      <td>shares</td>\n      <td>2.3300</td>\n      <td>show</td>\n      <td>3.0107</td>\n      <td>party</td>\n      <td>2.2978</td>\n      <td>cup</td>\n      <td>1.7546</td>\n      <td>software</td>\n      <td>2.3592</td>\n    </tr>\n    <tr>\n      <th>2</th>\n      <td>its</td>\n      <td>2.2650</td>\n      <td>music</td>\n      <td>2.5611</td>\n      <td>lord</td>\n      <td>2.0510</td>\n      <td>rugby</td>\n      <td>1.6510</td>\n      <td>technology</td>\n      <td>2.3324</td>\n    </tr>\n    <tr>\n      <th>3</th>\n      <td>economic</td>\n      <td>2.2368</td>\n      <td>singer</td>\n      <td>2.4325</td>\n      <td>secretary</td>\n      <td>2.0133</td>\n      <td>athletics</td>\n      <td>1.5769</td>\n      <td>computer</td>\n      <td>2.1125</td>\n    </tr>\n    <tr>\n      <th>4</th>\n      <td>company</td>\n      <td>1.8363</td>\n      <td>album</td>\n      <td>2.3064</td>\n      <td>government</td>\n      <td>2.0103</td>\n      <td>players</td>\n      <td>1.5422</td>\n      <td>games</td>\n      <td>1.9707</td>\n    </tr>\n    <tr>\n      <th>5</th>\n      <td>firm</td>\n      <td>1.8300</td>\n      <td>band</td>\n      <td>2.1063</td>\n      <td>minister</td>\n      <td>1.9874</td>\n      <td>season</td>\n      <td>1.5281</td>\n      <td>digital</td>\n      <td>1.9346</td>\n    </tr>\n    <tr>\n      <th>6</th>\n      <td>investment</td>\n      <td>1.5942</td>\n      <td>star</td>\n      <td>1.9524</td>\n      <td>labour</td>\n      <td>1.9762</td>\n      <td>win</td>\n      <td>1.5194</td>\n      <td>game</td>\n      <td>1.7995</td>\n    </tr>\n    <tr>\n      <th>7</th>\n      <td>business</td>\n      <td>1.5353</td>\n      <td>festival</td>\n      <td>1.5706</td>\n      <td>committee</td>\n      <td>1.8323</td>\n      <td>liverpool</td>\n      <td>1.4837</td>\n      <td>ink</td>\n      <td>1.7228</td>\n    </tr>\n    <tr>\n      <th>8</th>\n      <td>market</td>\n      <td>1.5173</td>\n      <td>tv</td>\n      <td>1.5275</td>\n      <td>mr</td>\n      <td>1.8213</td>\n      <td>club</td>\n      <td>1.4555</td>\n      <td>internet</td>\n      <td>1.6473</td>\n    </tr>\n    <tr>\n      <th>9</th>\n      <td>sales</td>\n      <td>1.5163</td>\n      <td>ballet</td>\n      <td>1.5092</td>\n      <td>straw</td>\n      <td>1.8144</td>\n      <td>coach</td>\n      <td>1.3881</td>\n      <td>net</td>\n      <td>1.5992</td>\n    </tr>\n    <tr>\n      <th>0</th>\n      <td>his</td>\n      <td>-1.0725</td>\n      <td>emi</td>\n      <td>-0.9488</td>\n      <td>online</td>\n      <td>-1.1178</td>\n      <td>album</td>\n      <td>-1.0831</td>\n      <td>business</td>\n      <td>-0.8514</td>\n    </tr>\n    <tr>\n      <th>1</th>\n      <td>digital</td>\n      <td>-1.1071</td>\n      <td>internet</td>\n      <td>-0.9698</td>\n      <td>its</td>\n      <td>-1.1346</td>\n      <td>music</td>\n      <td>-1.1076</td>\n      <td>nominations</td>\n      <td>-0.8559</td>\n    </tr>\n    <tr>\n      <th>2</th>\n      <td>committee</td>\n      <td>-1.1851</td>\n      <td>gameboyzz</td>\n      <td>-0.9812</td>\n      <td>club</td>\n      <td>-1.1497</td>\n      <td>said</td>\n      <td>-1.1461</td>\n      <td>corp</td>\n      <td>-0.9485</td>\n    </tr>\n    <tr>\n      <th>3</th>\n      <td>brown</td>\n      <td>-1.2454</td>\n      <td>labour</td>\n      <td>-0.9943</td>\n      <td>companies</td>\n      <td>-1.1509</td>\n      <td>show</td>\n      <td>-1.1833</td>\n      <td>we</td>\n      <td>-0.9826</td>\n    </tr>\n    <tr>\n      <th>4</th>\n      <td>blair</td>\n      <td>-1.2600</td>\n      <td>to</td>\n      <td>-1.0827</td>\n      <td>balls</td>\n      <td>-1.1724</td>\n      <td>singer</td>\n      <td>-1.2765</td>\n      <td>chernin</td>\n      <td>-0.9959</td>\n    </tr>\n    <tr>\n      <th>5</th>\n      <td>music</td>\n      <td>-1.2601</td>\n      <td>firm</td>\n      <td>-1.0973</td>\n      <td>rugby</td>\n      <td>-1.2719</td>\n      <td>uk</td>\n      <td>-1.2954</td>\n      <td>government</td>\n      <td>-1.0298</td>\n    </tr>\n    <tr>\n      <th>6</th>\n      <td>film</td>\n      <td>-1.2662</td>\n      <td>players</td>\n      <td>-1.2614</td>\n      <td>film</td>\n      <td>-1.3266</td>\n      <td>film</td>\n      <td>-1.3106</td>\n      <td>shares</td>\n      <td>-1.0300</td>\n    </tr>\n    <tr>\n      <th>7</th>\n      <td>britain</td>\n      <td>-1.2879</td>\n      <td>online</td>\n      <td>-1.3231</td>\n      <td>us</td>\n      <td>-1.5169</td>\n      <td>its</td>\n      <td>-1.3744</td>\n      <td>ict</td>\n      <td>-1.0351</td>\n    </tr>\n    <tr>\n      <th>8</th>\n      <td>straw</td>\n      <td>-1.3454</td>\n      <td>games</td>\n      <td>-1.3232</td>\n      <td>music</td>\n      <td>-1.5278</td>\n      <td>of</td>\n      <td>-1.6713</td>\n      <td>sales</td>\n      <td>-1.0446</td>\n    </tr>\n    <tr>\n      <th>9</th>\n      <td>he</td>\n      <td>-1.5650</td>\n      <td>game</td>\n      <td>-1.5355</td>\n      <td>economic</td>\n      <td>-1.7747</td>\n      <td>mr</td>\n      <td>-2.8439</td>\n      <td>after</td>\n      <td>-1.0493</td>\n    </tr>\n  </tbody>\n</table>\n</div>"
     },
     "metadata": {},
     "execution_count": 17
    }
   ],
   "source": [
    "n = 10\n",
    "df_list = []\n",
    "for _class in sgd.classes_:\n",
    "    df_list.append(top_n_features_by_coef(n, _class))\n",
    "pd.concat(df_list, axis=1)"
   ]
  },
  {
   "source": [
    "The tfidf (a common term weighting scheme in information retrieval) values that were fed into SGD classifier"
   ],
   "cell_type": "markdown",
   "metadata": {}
  },
  {
   "cell_type": "code",
   "execution_count": 60,
   "metadata": {},
   "outputs": [
    {
     "output_type": "execute_result",
     "data": {
      "text/plain": [
       "TfidfVectorizer()"
      ]
     },
     "metadata": {},
     "execution_count": 60
    }
   ],
   "source": [
    "sgd['tfidf_vector_com']"
   ]
  },
  {
   "cell_type": "code",
   "execution_count": 18,
   "metadata": {},
   "outputs": [
    {
     "output_type": "stream",
     "name": "stdout",
     "text": [
      "(26795,)\n"
     ]
    },
    {
     "output_type": "execute_result",
     "data": {
      "text/plain": [
       "array([6.69317081, 2.47121513, 7.7917831 , ..., 7.7917831 , 7.7917831 ,\n",
       "       7.38631799])"
      ]
     },
     "metadata": {},
     "execution_count": 18
    }
   ],
   "source": [
    "print(sgd['tfidf_vector_com'].idf_.shape)\n",
    "sgd['tfidf_vector_com'].idf_"
   ]
  },
  {
   "cell_type": "code",
   "execution_count": 63,
   "metadata": {},
   "outputs": [],
   "source": [
    "feature_output = sgd['tfidf_vector_com'].idf_ * sgd['clf'].coef_\n",
    "def top_n_features_by_feature_output(n, classname):\n",
    "    \"\"\"\n",
    "        Args:\n",
    "            n: the top number of words by coefficient,\n",
    "            classname: the class label\n",
    "        Returns:\n",
    "            top or bottom n words with coefficients\n",
    "    \"\"\"\n",
    "    class_idx = np.where(sgd.classes_== classname)[0][0]\n",
    "    idx_coef = sorted(\n",
    "        [(i,v) for (i, v) in enumerate(feature_output[class_idx])], key=lambda e: e[1],reverse=True)\n",
    "    top_n_idx_coef = idx_coef[:n]\n",
    "    bottom_n_idx_coef = idx_coef[-n:] # top negative N words, sort asscending\n",
    "    top_word_coef = list(map(lambda e: (idx_to_word[e[0]], round(e[1], 4)), top_n_idx_coef))\n",
    "    bottom_word_coef = list(map(lambda e: (idx_to_word[e[0]], round(e[1], 4)), bottom_n_idx_coef))\n",
    "    df = pd.DataFrame(top_word_coef, columns=[f\"{classname}_word\", 'feature_output'])\n",
    "    df_bottom = pd.DataFrame(bottom_word_coef, columns=[f\"{classname}_word\", 'feature_output'])\n",
    "    return pd.concat([df, df_bottom])"
   ]
  },
  {
   "cell_type": "code",
   "execution_count": 64,
   "metadata": {},
   "outputs": [
    {
     "output_type": "execute_result",
     "data": {
      "text/plain": [
       "  business_word  feature_output entertainment_word  feature_output  \\\n",
       "0          bank          8.8223               film         11.4067   \n",
       "1        shares          8.5956             ballet         10.3765   \n",
       "2      economic          7.7711              album         10.3696   \n",
       "3   datamonitor          7.7181            gallery         10.1932   \n",
       "4           wto          7.5195             singer         10.1372   \n",
       "5        boeing          7.4387            hendrix          9.4445   \n",
       "6     crossrail          7.3504           freeview          9.2216   \n",
       "7         davos          7.2253               band          8.9844   \n",
       "8           emi          6.5881               show          8.9707   \n",
       "9       tobacco          6.3727              music          8.2000   \n",
       "0         blair         -4.3860               peer         -4.1779   \n",
       "1  optinrealbig         -4.4701              games         -4.2846   \n",
       "2           baa         -4.5101                dtt         -4.4396   \n",
       "3     committee         -4.7098               game         -4.4437   \n",
       "4       minimum         -4.7335              bafta         -4.6722   \n",
       "5         brown         -4.7829             online         -4.7658   \n",
       "6          spam         -4.7835              kujda         -4.7784   \n",
       "7            g8         -5.4572             bruvik         -5.1589   \n",
       "8         straw         -7.0324                emi         -7.0082   \n",
       "9      argonaut         -7.3359          gameboyzz         -7.6455   \n",
       "\n",
       "  politics_word  feature_output sport_word  feature_output    tech_word  \\\n",
       "0           ict         12.0100       hamm          8.1622          ink   \n",
       "1         straw          9.4835  athletics          8.0164     argonaut   \n",
       "2       snooker          8.7586     doping          7.1837     software   \n",
       "3          lord          8.6891      rugby          7.1168       online   \n",
       "4      councils          8.6832  liverpool          7.0437    simonetti   \n",
       "5         duchy          8.5979      match          6.4889     computer   \n",
       "6         blair          8.4961        cup          6.4300         spam   \n",
       "7        safety          8.1032      balco          6.3047   technology   \n",
       "8         party          7.5264     athens          6.1105         rfid   \n",
       "9       nuclear          7.4859    rangers          6.0413     sigarchi   \n",
       "0     smernicki         -4.6037    concert         -4.3200     vodafone   \n",
       "1       tobacco         -4.6156         cm         -4.3488       shares   \n",
       "2     crossrail         -4.6573     ballet         -4.4372         barn   \n",
       "3         music         -4.8914   borussia         -4.6235  nominations   \n",
       "4      freeview         -5.3575      album         -4.8697          tps   \n",
       "5   chidambaram         -5.4610   festival         -4.9420       plasma   \n",
       "6         rugby         -5.4826      piero         -5.0658     turkcell   \n",
       "7            g7         -5.7121     singer         -5.3197         corp   \n",
       "8      economic         -6.1657         mr         -5.8083      chernin   \n",
       "9         balls         -7.6660    snooker         -5.8390          ict   \n",
       "\n",
       "   feature_output  \n",
       "0         11.2653  \n",
       "1          9.6489  \n",
       "2          8.8646  \n",
       "3          8.7156  \n",
       "4          8.3161  \n",
       "5          7.6912  \n",
       "6          7.5454  \n",
       "7          7.5275  \n",
       "8          7.1601  \n",
       "9          7.0222  \n",
       "0         -3.7092  \n",
       "1         -3.7996  \n",
       "2         -3.8691  \n",
       "3         -4.0632  \n",
       "4         -4.1794  \n",
       "5         -4.2377  \n",
       "6         -4.2388  \n",
       "7         -5.6152  \n",
       "8         -7.3563  \n",
       "9         -8.0654  "
      ],
      "text/html": "<div>\n<style scoped>\n    .dataframe tbody tr th:only-of-type {\n        vertical-align: middle;\n    }\n\n    .dataframe tbody tr th {\n        vertical-align: top;\n    }\n\n    .dataframe thead th {\n        text-align: right;\n    }\n</style>\n<table border=\"1\" class=\"dataframe\">\n  <thead>\n    <tr style=\"text-align: right;\">\n      <th></th>\n      <th>business_word</th>\n      <th>feature_output</th>\n      <th>entertainment_word</th>\n      <th>feature_output</th>\n      <th>politics_word</th>\n      <th>feature_output</th>\n      <th>sport_word</th>\n      <th>feature_output</th>\n      <th>tech_word</th>\n      <th>feature_output</th>\n    </tr>\n  </thead>\n  <tbody>\n    <tr>\n      <th>0</th>\n      <td>bank</td>\n      <td>8.8223</td>\n      <td>film</td>\n      <td>11.4067</td>\n      <td>ict</td>\n      <td>12.0100</td>\n      <td>hamm</td>\n      <td>8.1622</td>\n      <td>ink</td>\n      <td>11.2653</td>\n    </tr>\n    <tr>\n      <th>1</th>\n      <td>shares</td>\n      <td>8.5956</td>\n      <td>ballet</td>\n      <td>10.3765</td>\n      <td>straw</td>\n      <td>9.4835</td>\n      <td>athletics</td>\n      <td>8.0164</td>\n      <td>argonaut</td>\n      <td>9.6489</td>\n    </tr>\n    <tr>\n      <th>2</th>\n      <td>economic</td>\n      <td>7.7711</td>\n      <td>album</td>\n      <td>10.3696</td>\n      <td>snooker</td>\n      <td>8.7586</td>\n      <td>doping</td>\n      <td>7.1837</td>\n      <td>software</td>\n      <td>8.8646</td>\n    </tr>\n    <tr>\n      <th>3</th>\n      <td>datamonitor</td>\n      <td>7.7181</td>\n      <td>gallery</td>\n      <td>10.1932</td>\n      <td>lord</td>\n      <td>8.6891</td>\n      <td>rugby</td>\n      <td>7.1168</td>\n      <td>online</td>\n      <td>8.7156</td>\n    </tr>\n    <tr>\n      <th>4</th>\n      <td>wto</td>\n      <td>7.5195</td>\n      <td>singer</td>\n      <td>10.1372</td>\n      <td>councils</td>\n      <td>8.6832</td>\n      <td>liverpool</td>\n      <td>7.0437</td>\n      <td>simonetti</td>\n      <td>8.3161</td>\n    </tr>\n    <tr>\n      <th>5</th>\n      <td>boeing</td>\n      <td>7.4387</td>\n      <td>hendrix</td>\n      <td>9.4445</td>\n      <td>duchy</td>\n      <td>8.5979</td>\n      <td>match</td>\n      <td>6.4889</td>\n      <td>computer</td>\n      <td>7.6912</td>\n    </tr>\n    <tr>\n      <th>6</th>\n      <td>crossrail</td>\n      <td>7.3504</td>\n      <td>freeview</td>\n      <td>9.2216</td>\n      <td>blair</td>\n      <td>8.4961</td>\n      <td>cup</td>\n      <td>6.4300</td>\n      <td>spam</td>\n      <td>7.5454</td>\n    </tr>\n    <tr>\n      <th>7</th>\n      <td>davos</td>\n      <td>7.2253</td>\n      <td>band</td>\n      <td>8.9844</td>\n      <td>safety</td>\n      <td>8.1032</td>\n      <td>balco</td>\n      <td>6.3047</td>\n      <td>technology</td>\n      <td>7.5275</td>\n    </tr>\n    <tr>\n      <th>8</th>\n      <td>emi</td>\n      <td>6.5881</td>\n      <td>show</td>\n      <td>8.9707</td>\n      <td>party</td>\n      <td>7.5264</td>\n      <td>athens</td>\n      <td>6.1105</td>\n      <td>rfid</td>\n      <td>7.1601</td>\n    </tr>\n    <tr>\n      <th>9</th>\n      <td>tobacco</td>\n      <td>6.3727</td>\n      <td>music</td>\n      <td>8.2000</td>\n      <td>nuclear</td>\n      <td>7.4859</td>\n      <td>rangers</td>\n      <td>6.0413</td>\n      <td>sigarchi</td>\n      <td>7.0222</td>\n    </tr>\n    <tr>\n      <th>0</th>\n      <td>blair</td>\n      <td>-4.3860</td>\n      <td>peer</td>\n      <td>-4.1779</td>\n      <td>smernicki</td>\n      <td>-4.6037</td>\n      <td>concert</td>\n      <td>-4.3200</td>\n      <td>vodafone</td>\n      <td>-3.7092</td>\n    </tr>\n    <tr>\n      <th>1</th>\n      <td>optinrealbig</td>\n      <td>-4.4701</td>\n      <td>games</td>\n      <td>-4.2846</td>\n      <td>tobacco</td>\n      <td>-4.6156</td>\n      <td>cm</td>\n      <td>-4.3488</td>\n      <td>shares</td>\n      <td>-3.7996</td>\n    </tr>\n    <tr>\n      <th>2</th>\n      <td>baa</td>\n      <td>-4.5101</td>\n      <td>dtt</td>\n      <td>-4.4396</td>\n      <td>crossrail</td>\n      <td>-4.6573</td>\n      <td>ballet</td>\n      <td>-4.4372</td>\n      <td>barn</td>\n      <td>-3.8691</td>\n    </tr>\n    <tr>\n      <th>3</th>\n      <td>committee</td>\n      <td>-4.7098</td>\n      <td>game</td>\n      <td>-4.4437</td>\n      <td>music</td>\n      <td>-4.8914</td>\n      <td>borussia</td>\n      <td>-4.6235</td>\n      <td>nominations</td>\n      <td>-4.0632</td>\n    </tr>\n    <tr>\n      <th>4</th>\n      <td>minimum</td>\n      <td>-4.7335</td>\n      <td>bafta</td>\n      <td>-4.6722</td>\n      <td>freeview</td>\n      <td>-5.3575</td>\n      <td>album</td>\n      <td>-4.8697</td>\n      <td>tps</td>\n      <td>-4.1794</td>\n    </tr>\n    <tr>\n      <th>5</th>\n      <td>brown</td>\n      <td>-4.7829</td>\n      <td>online</td>\n      <td>-4.7658</td>\n      <td>chidambaram</td>\n      <td>-5.4610</td>\n      <td>festival</td>\n      <td>-4.9420</td>\n      <td>plasma</td>\n      <td>-4.2377</td>\n    </tr>\n    <tr>\n      <th>6</th>\n      <td>spam</td>\n      <td>-4.7835</td>\n      <td>kujda</td>\n      <td>-4.7784</td>\n      <td>rugby</td>\n      <td>-5.4826</td>\n      <td>piero</td>\n      <td>-5.0658</td>\n      <td>turkcell</td>\n      <td>-4.2388</td>\n    </tr>\n    <tr>\n      <th>7</th>\n      <td>g8</td>\n      <td>-5.4572</td>\n      <td>bruvik</td>\n      <td>-5.1589</td>\n      <td>g7</td>\n      <td>-5.7121</td>\n      <td>singer</td>\n      <td>-5.3197</td>\n      <td>corp</td>\n      <td>-5.6152</td>\n    </tr>\n    <tr>\n      <th>8</th>\n      <td>straw</td>\n      <td>-7.0324</td>\n      <td>emi</td>\n      <td>-7.0082</td>\n      <td>economic</td>\n      <td>-6.1657</td>\n      <td>mr</td>\n      <td>-5.8083</td>\n      <td>chernin</td>\n      <td>-7.3563</td>\n    </tr>\n    <tr>\n      <th>9</th>\n      <td>argonaut</td>\n      <td>-7.3359</td>\n      <td>gameboyzz</td>\n      <td>-7.6455</td>\n      <td>balls</td>\n      <td>-7.6660</td>\n      <td>snooker</td>\n      <td>-5.8390</td>\n      <td>ict</td>\n      <td>-8.0654</td>\n    </tr>\n  </tbody>\n</table>\n</div>"
     },
     "metadata": {},
     "execution_count": 64
    }
   ],
   "source": [
    "n = 10\n",
    "df_list = []\n",
    "for _class in sgd.classes_:\n",
    "    df_list.append(top_n_features_by_feature_output(n, _class))\n",
    "pd.concat(df_list, axis=1)"
   ]
  },
  {
   "cell_type": "code",
   "execution_count": 65,
   "metadata": {},
   "outputs": [
    {
     "output_type": "execute_result",
     "data": {
      "text/plain": [
       "array([6.69317081, 2.47121513, 7.7917831 , ..., 7.7917831 , 7.7917831 ,\n",
       "       7.38631799])"
      ]
     },
     "metadata": {},
     "execution_count": 65
    }
   ],
   "source": [
    "sgd['tfidf_vector_com'].idf_ "
   ]
  },
  {
   "cell_type": "code",
   "execution_count": 66,
   "metadata": {},
   "outputs": [
    {
     "output_type": "execute_result",
     "data": {
      "text/plain": [
       "(2, 7.791783102729716)"
      ]
     },
     "metadata": {},
     "execution_count": 66
    }
   ],
   "source": [
    "maxidx = np.argmax(sgd['tfidf_vector_com'].idf_)\n",
    "maxval = max(sgd['tfidf_vector_com'].idf_ )\n",
    "maxidx, maxval"
   ]
  },
  {
   "cell_type": "code",
   "execution_count": 67,
   "metadata": {},
   "outputs": [
    {
     "output_type": "execute_result",
     "data": {
      "text/plain": [
       "(array([    2,     4,     5, ..., 26792, 26793, 26794]),)"
      ]
     },
     "metadata": {},
     "execution_count": 67
    }
   ],
   "source": [
    "np.where(sgd['tfidf_vector_com'].idf_  > 7)"
   ]
  },
  {
   "cell_type": "code",
   "execution_count": 27,
   "metadata": {},
   "outputs": [
    {
     "output_type": "execute_result",
     "data": {
      "text/plain": [
       "(24092, 1.0)"
      ]
     },
     "metadata": {},
     "execution_count": 27
    }
   ],
   "source": [
    "minidx = np.argmin(sgd['tfidf_vector_com'].idf_)\n",
    "minval = min(sgd['tfidf_vector_com'].idf_)\n",
    "minidx, minval"
   ]
  },
  {
   "cell_type": "code",
   "execution_count": 34,
   "metadata": {},
   "outputs": [
    {
     "output_type": "execute_result",
     "data": {
      "text/plain": [
       "('000bn', 'the')"
      ]
     },
     "metadata": {},
     "execution_count": 34
    }
   ],
   "source": [
    "max_idf_token = idx_to_word[maxidx]\n",
    "min_idf_token = idx_to_word[minidx]\n",
    "max_idf_token, min_idf_token"
   ]
  },
  {
   "cell_type": "code",
   "execution_count": 68,
   "metadata": {},
   "outputs": [
    {
     "output_type": "execute_result",
     "data": {
      "text/plain": [
       "     category                                               text\n",
       "855  business  japan bank shares up on link talk shares of su..."
      ],
      "text/html": "<div>\n<style scoped>\n    .dataframe tbody tr th:only-of-type {\n        vertical-align: middle;\n    }\n\n    .dataframe tbody tr th {\n        vertical-align: top;\n    }\n\n    .dataframe thead th {\n        text-align: right;\n    }\n</style>\n<table border=\"1\" class=\"dataframe\">\n  <thead>\n    <tr style=\"text-align: right;\">\n      <th></th>\n      <th>category</th>\n      <th>text</th>\n    </tr>\n  </thead>\n  <tbody>\n    <tr>\n      <th>855</th>\n      <td>business</td>\n      <td>japan bank shares up on link talk shares of su...</td>\n    </tr>\n  </tbody>\n</table>\n</div>"
     },
     "metadata": {},
     "execution_count": 68
    }
   ],
   "source": [
    "df[df['text'].str.contains(max_idf_token)]"
   ]
  },
  {
   "cell_type": "code",
   "execution_count": 73,
   "metadata": {},
   "outputs": [
    {
     "output_type": "execute_result",
     "data": {
      "text/plain": [
       "           category                                               text\n",
       "0              tech  tv future in the hands of viewers with home th...\n",
       "1          business  worldcom boss  left books alone  former worldc...\n",
       "2             sport  tigers wary of farrell  gamble  leicester say ...\n",
       "3             sport  yeading face newcastle in fa cup premiership s...\n",
       "4     entertainment  ocean s twelve raids box office ocean s twelve...\n",
       "...             ...                                                ...\n",
       "2220       business  cars pull down us retail figures us retail sal...\n",
       "2221       politics  kilroy unveils immigration policy ex-chatshow ...\n",
       "2222  entertainment  rem announce new glasgow concert us band rem h...\n",
       "2223       politics  how political squabbles snowball it s become c...\n",
       "2224          sport  souness delight at euro progress boss graeme s...\n",
       "\n",
       "[2225 rows x 2 columns]"
      ],
      "text/html": "<div>\n<style scoped>\n    .dataframe tbody tr th:only-of-type {\n        vertical-align: middle;\n    }\n\n    .dataframe tbody tr th {\n        vertical-align: top;\n    }\n\n    .dataframe thead th {\n        text-align: right;\n    }\n</style>\n<table border=\"1\" class=\"dataframe\">\n  <thead>\n    <tr style=\"text-align: right;\">\n      <th></th>\n      <th>category</th>\n      <th>text</th>\n    </tr>\n  </thead>\n  <tbody>\n    <tr>\n      <th>0</th>\n      <td>tech</td>\n      <td>tv future in the hands of viewers with home th...</td>\n    </tr>\n    <tr>\n      <th>1</th>\n      <td>business</td>\n      <td>worldcom boss  left books alone  former worldc...</td>\n    </tr>\n    <tr>\n      <th>2</th>\n      <td>sport</td>\n      <td>tigers wary of farrell  gamble  leicester say ...</td>\n    </tr>\n    <tr>\n      <th>3</th>\n      <td>sport</td>\n      <td>yeading face newcastle in fa cup premiership s...</td>\n    </tr>\n    <tr>\n      <th>4</th>\n      <td>entertainment</td>\n      <td>ocean s twelve raids box office ocean s twelve...</td>\n    </tr>\n    <tr>\n      <th>...</th>\n      <td>...</td>\n      <td>...</td>\n    </tr>\n    <tr>\n      <th>2220</th>\n      <td>business</td>\n      <td>cars pull down us retail figures us retail sal...</td>\n    </tr>\n    <tr>\n      <th>2221</th>\n      <td>politics</td>\n      <td>kilroy unveils immigration policy ex-chatshow ...</td>\n    </tr>\n    <tr>\n      <th>2222</th>\n      <td>entertainment</td>\n      <td>rem announce new glasgow concert us band rem h...</td>\n    </tr>\n    <tr>\n      <th>2223</th>\n      <td>politics</td>\n      <td>how political squabbles snowball it s become c...</td>\n    </tr>\n    <tr>\n      <th>2224</th>\n      <td>sport</td>\n      <td>souness delight at euro progress boss graeme s...</td>\n    </tr>\n  </tbody>\n</table>\n<p>2225 rows × 2 columns</p>\n</div>"
     },
     "metadata": {},
     "execution_count": 73
    }
   ],
   "source": [
    "df[df['text'].str.contains(min_idf_token)]"
   ]
  },
  {
   "cell_type": "code",
   "execution_count": 74,
   "metadata": {},
   "outputs": [
    {
     "output_type": "execute_result",
     "data": {
      "text/plain": [
       "     category                                               text\n",
       "158  politics  uk firms  embracing e-commerce  uk firms are e..."
      ],
      "text/html": "<div>\n<style scoped>\n    .dataframe tbody tr th:only-of-type {\n        vertical-align: middle;\n    }\n\n    .dataframe tbody tr th {\n        vertical-align: top;\n    }\n\n    .dataframe thead th {\n        text-align: right;\n    }\n</style>\n<table border=\"1\" class=\"dataframe\">\n  <thead>\n    <tr style=\"text-align: right;\">\n      <th></th>\n      <th>category</th>\n      <th>text</th>\n    </tr>\n  </thead>\n  <tbody>\n    <tr>\n      <th>158</th>\n      <td>politics</td>\n      <td>uk firms  embracing e-commerce  uk firms are e...</td>\n    </tr>\n  </tbody>\n</table>\n</div>"
     },
     "metadata": {},
     "execution_count": 74
    }
   ],
   "source": [
    "df[df['text'].str.contains(' ict ')]"
   ]
  },
  {
   "cell_type": "code",
   "execution_count": 75,
   "metadata": {},
   "outputs": [
    {
     "output_type": "execute_result",
     "data": {
      "text/plain": [
       "'uk firms  embracing e-commerce  uk firms are embracing internet trading opportunities as never before  e-commerce minister mike o brien says.  a government-commissioned study ranked the uk third in its world index of use of information and communication technology (ict). the report suggests 69% of uk firms are now using broadband and that 30% of micro businesses are trading online. mr o brien said uk businesses were sprinting forward in ict use  but that there were more challenges ahead. the report  carried out independently by consultants booz allen hamilton and hi europe  placed the uk third behind sweden and ireland for business use of ict.  it showed british business brought greater maturity to their ict use  by using broadband in increased numbers  bringing ict into their business plans and using new technologies such as voice activated programmes and desktop video conferences. mr o brien said:  the increase in the proportion of business connected by broadband shows that uk companies are embracing the opportunities that ict can bring.  it is particularly encouraging to see that small businesses are beginning to narrow the digital divide that appeared to have opened up in recent years.  the government would play its part in  cultivating an environment where information and communication technologies can flourish   mr o brien said. the  clear message  the report sends is that effective use of ict can bring real improvements in business performance for all business.   however  we are not at the finishing line yet and many challenges remain if the uk is to reach its aim of becoming a world-leading e-economy   he added. the international benchmarking study was based on 8 000 telephone interviews with businesses  of which more than 2 700 were uk businesses. it is the eighth in a series of examining the adoption and deployment of ict in the world s most industrialised nations.'"
      ]
     },
     "metadata": {},
     "execution_count": 75
    }
   ],
   "source": [
    "df.iloc[158]['text']"
   ]
  },
  {
   "cell_type": "code",
   "execution_count": null,
   "metadata": {},
   "outputs": [],
   "source": []
  }
 ]
}