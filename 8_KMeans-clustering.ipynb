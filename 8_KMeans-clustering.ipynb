{
 "cells": [
  {
   "cell_type": "markdown",
   "source": [
    "\n",
    "## Unsupervised learning with KMeans clustering\n"
   ],
   "metadata": {}
  },
  {
   "cell_type": "markdown",
   "source": [
    "### In this exercise, we will:\n",
    "- load BBC news data into pandas dataframe\n",
    "- encode text into tfidf vectors\n",
    "- use KMeans to cluster encoded text into 5 clusters\n",
    "- convert different clusters number into category label for each record\n",
    "- compare clustered category with real category and calculate the total accuracy\n",
    "- improve the accuracy by select different KMeans parameters\n",
    "- instead of picking 5 categories, pretend we did not know the categories, use KMeans algorithms to find the best number of clusters"
   ],
   "metadata": {}
  },
  {
   "cell_type": "code",
   "execution_count": 1,
   "source": [
    "import pandas as pd\n",
    "import numpy as np\n",
    "import matplotlib.pyplot as plt\n",
    "from sklearn.feature_extraction.text import TfidfVectorizer\n",
    "from sklearn import metrics"
   ],
   "outputs": [],
   "metadata": {}
  },
  {
   "cell_type": "code",
   "execution_count": 2,
   "source": [
    "df = pd.read_csv('kaggle_data/bbc-text.csv')\n",
    "print(df.shape, df['category'].nunique())\n",
    "df.head(2)"
   ],
   "outputs": [
    {
     "output_type": "stream",
     "name": "stdout",
     "text": [
      "(2225, 2) 5\n"
     ]
    },
    {
     "output_type": "execute_result",
     "data": {
      "text/plain": [
       "   category                                               text\n",
       "0      tech  tv future in the hands of viewers with home th...\n",
       "1  business  worldcom boss  left books alone  former worldc..."
      ],
      "text/html": [
       "<div>\n",
       "<style scoped>\n",
       "    .dataframe tbody tr th:only-of-type {\n",
       "        vertical-align: middle;\n",
       "    }\n",
       "\n",
       "    .dataframe tbody tr th {\n",
       "        vertical-align: top;\n",
       "    }\n",
       "\n",
       "    .dataframe thead th {\n",
       "        text-align: right;\n",
       "    }\n",
       "</style>\n",
       "<table border=\"1\" class=\"dataframe\">\n",
       "  <thead>\n",
       "    <tr style=\"text-align: right;\">\n",
       "      <th></th>\n",
       "      <th>category</th>\n",
       "      <th>text</th>\n",
       "    </tr>\n",
       "  </thead>\n",
       "  <tbody>\n",
       "    <tr>\n",
       "      <th>0</th>\n",
       "      <td>tech</td>\n",
       "      <td>tv future in the hands of viewers with home th...</td>\n",
       "    </tr>\n",
       "    <tr>\n",
       "      <th>1</th>\n",
       "      <td>business</td>\n",
       "      <td>worldcom boss  left books alone  former worldc...</td>\n",
       "    </tr>\n",
       "  </tbody>\n",
       "</table>\n",
       "</div>"
      ]
     },
     "metadata": {},
     "execution_count": 2
    }
   ],
   "metadata": {}
  },
  {
   "cell_type": "markdown",
   "source": [
    "### Check the news categories and the number of samples for each category"
   ],
   "metadata": {}
  },
  {
   "cell_type": "code",
   "execution_count": 3,
   "source": [
    "df['category'].value_counts()"
   ],
   "outputs": [
    {
     "output_type": "execute_result",
     "data": {
      "text/plain": [
       "sport            511\n",
       "business         510\n",
       "politics         417\n",
       "tech             401\n",
       "entertainment    386\n",
       "Name: category, dtype: int64"
      ]
     },
     "metadata": {},
     "execution_count": 3
    }
   ],
   "metadata": {}
  },
  {
   "cell_type": "markdown",
   "source": [
    "### In order to run KMeans cluster on text, we need to encode text into vector of numeric representation, here we choose TfidfVectorizer"
   ],
   "metadata": {}
  },
  {
   "cell_type": "code",
   "execution_count": 4,
   "source": [
    "vec = TfidfVectorizer()\n",
    "encoded_x = vec.fit_transform(df['text'])\n",
    "encoded_x.shape"
   ],
   "outputs": [
    {
     "output_type": "execute_result",
     "data": {
      "text/plain": [
       "(2225, 29421)"
      ]
     },
     "metadata": {},
     "execution_count": 4
    }
   ],
   "metadata": {}
  },
  {
   "cell_type": "code",
   "execution_count": 5,
   "source": [
    "from sklearn.cluster import KMeans\n",
    "model = KMeans(5, n_init=10, random_state=42)\n",
    "model.fit(encoded_x)\n",
    "model.labels_"
   ],
   "outputs": [
    {
     "output_type": "execute_result",
     "data": {
      "text/plain": [
       "array([1, 4, 0, ..., 3, 1, 0], dtype=int32)"
      ]
     },
     "metadata": {},
     "execution_count": 5
    }
   ],
   "metadata": {}
  },
  {
   "cell_type": "code",
   "execution_count": 6,
   "source": [
    "df['cluster'] = model.labels_"
   ],
   "outputs": [],
   "metadata": {}
  },
  {
   "cell_type": "code",
   "execution_count": 7,
   "source": [
    "df.head(20)"
   ],
   "outputs": [
    {
     "output_type": "execute_result",
     "data": {
      "text/plain": [
       "         category                                               text  cluster\n",
       "0            tech  tv future in the hands of viewers with home th...        1\n",
       "1        business  worldcom boss  left books alone  former worldc...        4\n",
       "2           sport  tigers wary of farrell  gamble  leicester say ...        0\n",
       "3           sport  yeading face newcastle in fa cup premiership s...        0\n",
       "4   entertainment  ocean s twelve raids box office ocean s twelve...        3\n",
       "5        politics  howard hits back at mongrel jibe michael howar...        2\n",
       "6        politics  blair prepares to name poll date tony blair is...        2\n",
       "7           sport  henman hopes ended in dubai third seed tim hen...        0\n",
       "8           sport  wilkinson fit to face edinburgh england captai...        0\n",
       "9   entertainment  last star wars  not for children  the sixth an...        3\n",
       "10  entertainment  berlin cheers for anti-nazi film a german movi...        3\n",
       "11       business  virgin blue shares plummet 20% shares in austr...        4\n",
       "12       business  crude oil prices back above $50 cold weather a...        4\n",
       "13       politics  hague  given up  his pm ambition former conser...        2\n",
       "14          sport  moya emotional after davis cup win carlos moya...        0\n",
       "15       business  s korean credit card firm rescued south korea ...        4\n",
       "16       politics  howard backs stem cell research michael howard...        2\n",
       "17          sport  connors boost for british tennis former world ...        0\n",
       "18       business  japanese banking battle at an end japan s sumi...        4\n",
       "19           tech  games maker fights for survival one of britain...        4"
      ],
      "text/html": [
       "<div>\n",
       "<style scoped>\n",
       "    .dataframe tbody tr th:only-of-type {\n",
       "        vertical-align: middle;\n",
       "    }\n",
       "\n",
       "    .dataframe tbody tr th {\n",
       "        vertical-align: top;\n",
       "    }\n",
       "\n",
       "    .dataframe thead th {\n",
       "        text-align: right;\n",
       "    }\n",
       "</style>\n",
       "<table border=\"1\" class=\"dataframe\">\n",
       "  <thead>\n",
       "    <tr style=\"text-align: right;\">\n",
       "      <th></th>\n",
       "      <th>category</th>\n",
       "      <th>text</th>\n",
       "      <th>cluster</th>\n",
       "    </tr>\n",
       "  </thead>\n",
       "  <tbody>\n",
       "    <tr>\n",
       "      <th>0</th>\n",
       "      <td>tech</td>\n",
       "      <td>tv future in the hands of viewers with home th...</td>\n",
       "      <td>1</td>\n",
       "    </tr>\n",
       "    <tr>\n",
       "      <th>1</th>\n",
       "      <td>business</td>\n",
       "      <td>worldcom boss  left books alone  former worldc...</td>\n",
       "      <td>4</td>\n",
       "    </tr>\n",
       "    <tr>\n",
       "      <th>2</th>\n",
       "      <td>sport</td>\n",
       "      <td>tigers wary of farrell  gamble  leicester say ...</td>\n",
       "      <td>0</td>\n",
       "    </tr>\n",
       "    <tr>\n",
       "      <th>3</th>\n",
       "      <td>sport</td>\n",
       "      <td>yeading face newcastle in fa cup premiership s...</td>\n",
       "      <td>0</td>\n",
       "    </tr>\n",
       "    <tr>\n",
       "      <th>4</th>\n",
       "      <td>entertainment</td>\n",
       "      <td>ocean s twelve raids box office ocean s twelve...</td>\n",
       "      <td>3</td>\n",
       "    </tr>\n",
       "    <tr>\n",
       "      <th>5</th>\n",
       "      <td>politics</td>\n",
       "      <td>howard hits back at mongrel jibe michael howar...</td>\n",
       "      <td>2</td>\n",
       "    </tr>\n",
       "    <tr>\n",
       "      <th>6</th>\n",
       "      <td>politics</td>\n",
       "      <td>blair prepares to name poll date tony blair is...</td>\n",
       "      <td>2</td>\n",
       "    </tr>\n",
       "    <tr>\n",
       "      <th>7</th>\n",
       "      <td>sport</td>\n",
       "      <td>henman hopes ended in dubai third seed tim hen...</td>\n",
       "      <td>0</td>\n",
       "    </tr>\n",
       "    <tr>\n",
       "      <th>8</th>\n",
       "      <td>sport</td>\n",
       "      <td>wilkinson fit to face edinburgh england captai...</td>\n",
       "      <td>0</td>\n",
       "    </tr>\n",
       "    <tr>\n",
       "      <th>9</th>\n",
       "      <td>entertainment</td>\n",
       "      <td>last star wars  not for children  the sixth an...</td>\n",
       "      <td>3</td>\n",
       "    </tr>\n",
       "    <tr>\n",
       "      <th>10</th>\n",
       "      <td>entertainment</td>\n",
       "      <td>berlin cheers for anti-nazi film a german movi...</td>\n",
       "      <td>3</td>\n",
       "    </tr>\n",
       "    <tr>\n",
       "      <th>11</th>\n",
       "      <td>business</td>\n",
       "      <td>virgin blue shares plummet 20% shares in austr...</td>\n",
       "      <td>4</td>\n",
       "    </tr>\n",
       "    <tr>\n",
       "      <th>12</th>\n",
       "      <td>business</td>\n",
       "      <td>crude oil prices back above $50 cold weather a...</td>\n",
       "      <td>4</td>\n",
       "    </tr>\n",
       "    <tr>\n",
       "      <th>13</th>\n",
       "      <td>politics</td>\n",
       "      <td>hague  given up  his pm ambition former conser...</td>\n",
       "      <td>2</td>\n",
       "    </tr>\n",
       "    <tr>\n",
       "      <th>14</th>\n",
       "      <td>sport</td>\n",
       "      <td>moya emotional after davis cup win carlos moya...</td>\n",
       "      <td>0</td>\n",
       "    </tr>\n",
       "    <tr>\n",
       "      <th>15</th>\n",
       "      <td>business</td>\n",
       "      <td>s korean credit card firm rescued south korea ...</td>\n",
       "      <td>4</td>\n",
       "    </tr>\n",
       "    <tr>\n",
       "      <th>16</th>\n",
       "      <td>politics</td>\n",
       "      <td>howard backs stem cell research michael howard...</td>\n",
       "      <td>2</td>\n",
       "    </tr>\n",
       "    <tr>\n",
       "      <th>17</th>\n",
       "      <td>sport</td>\n",
       "      <td>connors boost for british tennis former world ...</td>\n",
       "      <td>0</td>\n",
       "    </tr>\n",
       "    <tr>\n",
       "      <th>18</th>\n",
       "      <td>business</td>\n",
       "      <td>japanese banking battle at an end japan s sumi...</td>\n",
       "      <td>4</td>\n",
       "    </tr>\n",
       "    <tr>\n",
       "      <th>19</th>\n",
       "      <td>tech</td>\n",
       "      <td>games maker fights for survival one of britain...</td>\n",
       "      <td>4</td>\n",
       "    </tr>\n",
       "  </tbody>\n",
       "</table>\n",
       "</div>"
      ]
     },
     "metadata": {},
     "execution_count": 7
    }
   ],
   "metadata": {}
  },
  {
   "cell_type": "markdown",
   "source": [
    "Here we see that each cluster can be mapped to a category nicely, but sample index 19 is mapped to cluster 4 which seems to correspond to business, not tech. Let's exam how data are clustered for each category then we can find the most suited cluster number for each category "
   ],
   "metadata": {}
  },
  {
   "cell_type": "code",
   "execution_count": 8,
   "source": [
    "for cat in df['category'].unique():\n",
    "\tmark = df['category'] == cat\n",
    "\tprint(f\"{cat}\\n{df[mark]['cluster'].value_counts()}\\n\")\n"
   ],
   "outputs": [
    {
     "output_type": "stream",
     "name": "stdout",
     "text": [
      "tech\n",
      "1    370\n",
      "3     19\n",
      "4     12\n",
      "Name: cluster, dtype: int64\n",
      "\n",
      "business\n",
      "4    491\n",
      "2      8\n",
      "1      6\n",
      "3      4\n",
      "0      1\n",
      "Name: cluster, dtype: int64\n",
      "\n",
      "sport\n",
      "0    358\n",
      "3    135\n",
      "4     17\n",
      "2      1\n",
      "Name: cluster, dtype: int64\n",
      "\n",
      "entertainment\n",
      "3    364\n",
      "4     14\n",
      "1      6\n",
      "0      1\n",
      "2      1\n",
      "Name: cluster, dtype: int64\n",
      "\n",
      "politics\n",
      "2    352\n",
      "4     40\n",
      "3     22\n",
      "1      3\n",
      "Name: cluster, dtype: int64\n",
      "\n"
     ]
    }
   ],
   "metadata": {}
  },
  {
   "cell_type": "markdown",
   "source": [
    "### Now we assign cluster number to a category if most sample data has the cluster number for the category"
   ],
   "metadata": {}
  },
  {
   "cell_type": "code",
   "execution_count": 12,
   "source": [
    "cluster_to_category = {}\n",
    "for cat in df['category'].unique():\n",
    "\tmark = df['category'] == cat\n",
    "\ttop = df[mark]['cluster'].value_counts().head(1)\n",
    "\tcount = top.values[0]\n",
    "\tcluster = top.index[0]\n",
    "\tprint(f\"{cat}:\\n Top cluster number: {cluster}, Number of samples: {count}\")\n",
    "\tcluster_to_category[cluster] = cat\n",
    "\n",
    "print(\"\\nMap cluster number to category:\")\n",
    "cluster_to_category"
   ],
   "outputs": [
    {
     "output_type": "stream",
     "name": "stdout",
     "text": [
      "tech:\n",
      " Top cluster number: 1, Number of samples: 370\n",
      "business:\n",
      " Top cluster number: 4, Number of samples: 491\n",
      "sport:\n",
      " Top cluster number: 0, Number of samples: 358\n",
      "entertainment:\n",
      " Top cluster number: 3, Number of samples: 364\n",
      "politics:\n",
      " Top cluster number: 2, Number of samples: 352\n",
      "\n",
      "Map cluster number to category:\n"
     ]
    },
    {
     "output_type": "execute_result",
     "data": {
      "text/plain": [
       "{1: 'tech', 4: 'business', 0: 'sport', 3: 'entertainment', 2: 'politics'}"
      ]
     },
     "metadata": {},
     "execution_count": 12
    }
   ],
   "metadata": {}
  },
  {
   "cell_type": "markdown",
   "source": [
    "### Add the clustered_category to data frame"
   ],
   "metadata": {}
  },
  {
   "cell_type": "code",
   "execution_count": 18,
   "source": [
    "df['clustered_category'] = df['cluster'].map(cluster_to_category)\n",
    "df.head(20)"
   ],
   "outputs": [
    {
     "output_type": "execute_result",
     "data": {
      "text/plain": [
       "         category                                               text  cluster  \\\n",
       "0            tech  tv future in the hands of viewers with home th...        1   \n",
       "1        business  worldcom boss  left books alone  former worldc...        4   \n",
       "2           sport  tigers wary of farrell  gamble  leicester say ...        0   \n",
       "3           sport  yeading face newcastle in fa cup premiership s...        0   \n",
       "4   entertainment  ocean s twelve raids box office ocean s twelve...        3   \n",
       "5        politics  howard hits back at mongrel jibe michael howar...        2   \n",
       "6        politics  blair prepares to name poll date tony blair is...        2   \n",
       "7           sport  henman hopes ended in dubai third seed tim hen...        0   \n",
       "8           sport  wilkinson fit to face edinburgh england captai...        0   \n",
       "9   entertainment  last star wars  not for children  the sixth an...        3   \n",
       "10  entertainment  berlin cheers for anti-nazi film a german movi...        3   \n",
       "11       business  virgin blue shares plummet 20% shares in austr...        4   \n",
       "12       business  crude oil prices back above $50 cold weather a...        4   \n",
       "13       politics  hague  given up  his pm ambition former conser...        2   \n",
       "14          sport  moya emotional after davis cup win carlos moya...        0   \n",
       "15       business  s korean credit card firm rescued south korea ...        4   \n",
       "16       politics  howard backs stem cell research michael howard...        2   \n",
       "17          sport  connors boost for british tennis former world ...        0   \n",
       "18       business  japanese banking battle at an end japan s sumi...        4   \n",
       "19           tech  games maker fights for survival one of britain...        4   \n",
       "\n",
       "   clustered_category  \n",
       "0                tech  \n",
       "1            business  \n",
       "2               sport  \n",
       "3               sport  \n",
       "4       entertainment  \n",
       "5            politics  \n",
       "6            politics  \n",
       "7               sport  \n",
       "8               sport  \n",
       "9       entertainment  \n",
       "10      entertainment  \n",
       "11           business  \n",
       "12           business  \n",
       "13           politics  \n",
       "14              sport  \n",
       "15           business  \n",
       "16           politics  \n",
       "17              sport  \n",
       "18           business  \n",
       "19           business  "
      ],
      "text/html": [
       "<div>\n",
       "<style scoped>\n",
       "    .dataframe tbody tr th:only-of-type {\n",
       "        vertical-align: middle;\n",
       "    }\n",
       "\n",
       "    .dataframe tbody tr th {\n",
       "        vertical-align: top;\n",
       "    }\n",
       "\n",
       "    .dataframe thead th {\n",
       "        text-align: right;\n",
       "    }\n",
       "</style>\n",
       "<table border=\"1\" class=\"dataframe\">\n",
       "  <thead>\n",
       "    <tr style=\"text-align: right;\">\n",
       "      <th></th>\n",
       "      <th>category</th>\n",
       "      <th>text</th>\n",
       "      <th>cluster</th>\n",
       "      <th>clustered_category</th>\n",
       "    </tr>\n",
       "  </thead>\n",
       "  <tbody>\n",
       "    <tr>\n",
       "      <th>0</th>\n",
       "      <td>tech</td>\n",
       "      <td>tv future in the hands of viewers with home th...</td>\n",
       "      <td>1</td>\n",
       "      <td>tech</td>\n",
       "    </tr>\n",
       "    <tr>\n",
       "      <th>1</th>\n",
       "      <td>business</td>\n",
       "      <td>worldcom boss  left books alone  former worldc...</td>\n",
       "      <td>4</td>\n",
       "      <td>business</td>\n",
       "    </tr>\n",
       "    <tr>\n",
       "      <th>2</th>\n",
       "      <td>sport</td>\n",
       "      <td>tigers wary of farrell  gamble  leicester say ...</td>\n",
       "      <td>0</td>\n",
       "      <td>sport</td>\n",
       "    </tr>\n",
       "    <tr>\n",
       "      <th>3</th>\n",
       "      <td>sport</td>\n",
       "      <td>yeading face newcastle in fa cup premiership s...</td>\n",
       "      <td>0</td>\n",
       "      <td>sport</td>\n",
       "    </tr>\n",
       "    <tr>\n",
       "      <th>4</th>\n",
       "      <td>entertainment</td>\n",
       "      <td>ocean s twelve raids box office ocean s twelve...</td>\n",
       "      <td>3</td>\n",
       "      <td>entertainment</td>\n",
       "    </tr>\n",
       "    <tr>\n",
       "      <th>5</th>\n",
       "      <td>politics</td>\n",
       "      <td>howard hits back at mongrel jibe michael howar...</td>\n",
       "      <td>2</td>\n",
       "      <td>politics</td>\n",
       "    </tr>\n",
       "    <tr>\n",
       "      <th>6</th>\n",
       "      <td>politics</td>\n",
       "      <td>blair prepares to name poll date tony blair is...</td>\n",
       "      <td>2</td>\n",
       "      <td>politics</td>\n",
       "    </tr>\n",
       "    <tr>\n",
       "      <th>7</th>\n",
       "      <td>sport</td>\n",
       "      <td>henman hopes ended in dubai third seed tim hen...</td>\n",
       "      <td>0</td>\n",
       "      <td>sport</td>\n",
       "    </tr>\n",
       "    <tr>\n",
       "      <th>8</th>\n",
       "      <td>sport</td>\n",
       "      <td>wilkinson fit to face edinburgh england captai...</td>\n",
       "      <td>0</td>\n",
       "      <td>sport</td>\n",
       "    </tr>\n",
       "    <tr>\n",
       "      <th>9</th>\n",
       "      <td>entertainment</td>\n",
       "      <td>last star wars  not for children  the sixth an...</td>\n",
       "      <td>3</td>\n",
       "      <td>entertainment</td>\n",
       "    </tr>\n",
       "    <tr>\n",
       "      <th>10</th>\n",
       "      <td>entertainment</td>\n",
       "      <td>berlin cheers for anti-nazi film a german movi...</td>\n",
       "      <td>3</td>\n",
       "      <td>entertainment</td>\n",
       "    </tr>\n",
       "    <tr>\n",
       "      <th>11</th>\n",
       "      <td>business</td>\n",
       "      <td>virgin blue shares plummet 20% shares in austr...</td>\n",
       "      <td>4</td>\n",
       "      <td>business</td>\n",
       "    </tr>\n",
       "    <tr>\n",
       "      <th>12</th>\n",
       "      <td>business</td>\n",
       "      <td>crude oil prices back above $50 cold weather a...</td>\n",
       "      <td>4</td>\n",
       "      <td>business</td>\n",
       "    </tr>\n",
       "    <tr>\n",
       "      <th>13</th>\n",
       "      <td>politics</td>\n",
       "      <td>hague  given up  his pm ambition former conser...</td>\n",
       "      <td>2</td>\n",
       "      <td>politics</td>\n",
       "    </tr>\n",
       "    <tr>\n",
       "      <th>14</th>\n",
       "      <td>sport</td>\n",
       "      <td>moya emotional after davis cup win carlos moya...</td>\n",
       "      <td>0</td>\n",
       "      <td>sport</td>\n",
       "    </tr>\n",
       "    <tr>\n",
       "      <th>15</th>\n",
       "      <td>business</td>\n",
       "      <td>s korean credit card firm rescued south korea ...</td>\n",
       "      <td>4</td>\n",
       "      <td>business</td>\n",
       "    </tr>\n",
       "    <tr>\n",
       "      <th>16</th>\n",
       "      <td>politics</td>\n",
       "      <td>howard backs stem cell research michael howard...</td>\n",
       "      <td>2</td>\n",
       "      <td>politics</td>\n",
       "    </tr>\n",
       "    <tr>\n",
       "      <th>17</th>\n",
       "      <td>sport</td>\n",
       "      <td>connors boost for british tennis former world ...</td>\n",
       "      <td>0</td>\n",
       "      <td>sport</td>\n",
       "    </tr>\n",
       "    <tr>\n",
       "      <th>18</th>\n",
       "      <td>business</td>\n",
       "      <td>japanese banking battle at an end japan s sumi...</td>\n",
       "      <td>4</td>\n",
       "      <td>business</td>\n",
       "    </tr>\n",
       "    <tr>\n",
       "      <th>19</th>\n",
       "      <td>tech</td>\n",
       "      <td>games maker fights for survival one of britain...</td>\n",
       "      <td>4</td>\n",
       "      <td>business</td>\n",
       "    </tr>\n",
       "  </tbody>\n",
       "</table>\n",
       "</div>"
      ]
     },
     "metadata": {},
     "execution_count": 18
    }
   ],
   "metadata": {}
  },
  {
   "cell_type": "code",
   "execution_count": 28,
   "source": [
    "print('Overall accuracy of clustered categories:')\n",
    "print(np.mean(df['category'] == df['clustered_category']))"
   ],
   "outputs": [
    {
     "output_type": "stream",
     "name": "stdout",
     "text": [
      "Overall accuracy of clustered categories:\n",
      "0.8696629213483146\n"
     ]
    }
   ],
   "metadata": {}
  },
  {
   "cell_type": "markdown",
   "source": [
    "### Instead of specifying 5 clusters, pretend we did not know the categories, use KMeans algorithms to find the best number of clusters"
   ],
   "metadata": {}
  },
  {
   "cell_type": "markdown",
   "source": [],
   "metadata": {}
  },
  {
   "cell_type": "code",
   "execution_count": 29,
   "source": [
    "n_clusters = 12\n",
    "distances = []\n",
    "for n in range(1, n_clusters + 1):\n",
    "\tkmeans = KMeans(n, random_state=42)\n",
    "\tkmeans.fit(encoded_x)\n",
    "\tprint(\"Number of clusters: \", n, \"Sum of squared distance: \", kmeans.inertia_)\n",
    "\tdistances.append(kmeans.inertia_)\n"
   ],
   "outputs": [
    {
     "output_type": "stream",
     "name": "stdout",
     "text": [
      "Number of clusters:  1 Sum of squared distance:  1974.3754283042276\n",
      "Number of clusters:  2 Sum of squared distance:  1957.1365105179764\n",
      "Number of clusters:  3 Sum of squared distance:  1942.2173683393246\n",
      "Number of clusters:  4 Sum of squared distance:  1930.8425296674695\n",
      "Number of clusters:  5 Sum of squared distance:  1920.0011060049512\n",
      "Number of clusters:  6 Sum of squared distance:  1916.0372356939213\n",
      "Number of clusters:  7 Sum of squared distance:  1905.2578684034077\n",
      "Number of clusters:  8 Sum of squared distance:  1899.2288335103494\n",
      "Number of clusters:  9 Sum of squared distance:  1893.7690769909643\n",
      "Number of clusters:  10 Sum of squared distance:  1886.5330582492595\n",
      "Number of clusters:  11 Sum of squared distance:  1879.2163012469107\n",
      "Number of clusters:  12 Sum of squared distance:  1875.7941295389846\n"
     ]
    }
   ],
   "metadata": {}
  },
  {
   "cell_type": "markdown",
   "source": [
    "### Check the change of sum of squared distance when number of clusters increase by 1"
   ],
   "metadata": {}
  },
  {
   "cell_type": "code",
   "execution_count": 31,
   "source": [
    "change_of_distance = [x - y for x, y in zip(distances[:-1], distances[1:])]\n",
    "change_of_distance"
   ],
   "outputs": [
    {
     "output_type": "execute_result",
     "data": {
      "text/plain": [
       "[17.23891778625125,\n",
       " 14.919142178651782,\n",
       " 11.37483867185506,\n",
       " 10.84142366251831,\n",
       " 3.9638703110299502,\n",
       " 10.779367290513619,\n",
       " 6.029034893058224,\n",
       " 5.45975651938511,\n",
       " 7.236018741704811,\n",
       " 7.316757002348822,\n",
       " 3.4221717079260543]"
      ]
     },
     "metadata": {},
     "execution_count": 31
    }
   ],
   "metadata": {}
  },
  {
   "cell_type": "code",
   "execution_count": 34,
   "source": [
    "import matplotlib.pyplot as plt\n",
    "plt.plot(range(1, n_clusters + 1), distances, 'o-')\n",
    "# plt.plot([1, 5], [distances[0], distances[4]], 'go--')\n",
    "# plt.plot([5, 12], [distances[4], distances[11]], 'ro--')"
   ],
   "outputs": [
    {
     "output_type": "execute_result",
     "data": {
      "text/plain": [
       "[<matplotlib.lines.Line2D at 0x7ff1b0461c10>]"
      ]
     },
     "metadata": {},
     "execution_count": 34
    },
    {
     "output_type": "display_data",
     "data": {
      "text/plain": [
       "<Figure size 432x288 with 1 Axes>"
      ],
      "image/png": "[encoded data removed]"
     },
     "metadata": {
      "needs_background": "light"
     }
    }
   ],
   "metadata": {}
  },
  {
   "cell_type": "markdown",
   "source": [
    "### From above we can see that, though not very obvious, the elbow is roughly at n = 5 "
   ],
   "metadata": {}
  },
  {
   "cell_type": "markdown",
   "source": [],
   "metadata": {}
  },
  {
   "cell_type": "code",
   "execution_count": null,
   "source": [
    "from sklearn.decomposition import PCA"
   ],
   "outputs": [],
   "metadata": {}
  },
  {
   "cell_type": "code",
   "execution_count": null,
   "source": [
    "pca = PCA(n_components=2)\n",
    "x_pca = pca.fit_transform(encoded_x.toarray())\n",
    "x_pca.shape"
   ],
   "outputs": [],
   "metadata": {}
  },
  {
   "cell_type": "code",
   "execution_count": null,
   "source": [
    "x_pca"
   ],
   "outputs": [],
   "metadata": {}
  },
  {
   "cell_type": "code",
   "execution_count": null,
   "source": [
    "plt.figure(figsize=(18, 12))\n",
    "plt.scatter(x_pca[:, 0], x_pca[:, 1], c=model.labels_, cmap=\"coolwarm\")\n",
    "plt.colorbar()"
   ],
   "outputs": [],
   "metadata": {}
  },
  {
   "cell_type": "code",
   "execution_count": null,
   "source": [],
   "outputs": [],
   "metadata": {}
  }
 ],
 "metadata": {
  "interpreter": {
   "hash": "20a85fe09acdaba6b71d03f72f9bc0d14d3f4a3b1e07c31a1c0e4d90c2c59b60"
  },
  "kernelspec": {
   "display_name": "Python 3.9.4 64-bit ('sk024': conda)",
   "name": "python3"
  },
  "language_info": {
   "codemirror_mode": {
    "name": "ipython",
    "version": 3
   },
   "file_extension": ".py",
   "mimetype": "text/x-python",
   "name": "python",
   "nbconvert_exporter": "python",
   "pygments_lexer": "ipython3",
   "version": "3.9.4"
  }
 },
 "nbformat": 4,
 "nbformat_minor": 4
}